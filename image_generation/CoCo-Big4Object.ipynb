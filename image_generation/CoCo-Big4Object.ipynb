{
 "cells": [
  {
   "cell_type": "code",
   "execution_count": 19,
   "metadata": {},
   "outputs": [],
   "source": [
    "import pandas as pd\n",
    "import subprocess\n",
    "import json\n",
    "import random\n",
    "random.seed(42)\n"
   ]
  },
  {
   "cell_type": "code",
   "execution_count": 21,
   "metadata": {},
   "outputs": [],
   "source": [
    "with open(\"CoCo_Configs/properties.json\", 'r') as f:\n",
    "    properties = json.load(f)\n",
    "with open(\"CoCo_Configs/Scales.json\") as f:\n",
    "    scales=json.load(f)\n",
    "shapes=[\"axe\",\"bird\",\"dog\",\"backpack\",\"hat\",\"umberella\",\"shoe\",\"suitcase\",\"bottle\"]\n",
    "shape_names=[]\n",
    "for shape1 in shapes:\n",
    "    for shape2 in shapes:\n",
    "        for shape3 in shapes:\n",
    "            for shape4 in shapes:\n",
    "                if shape1==shape2 or shape1==shape3 or shape1==shape4 or shape2==shape3 or shape2==shape4 or shape3==shape4: continue\n",
    "                shape_name=f\"{shape1} {shape2} {shape3} {shape4}\"\n",
    "                shape_names.append(shape_name)\n",
    "shape_candidates=random.sample(shape_names,2000)\n"
   ]
  },
  {
   "cell_type": "code",
   "execution_count": 23,
   "metadata": {},
   "outputs": [
    {
     "name": "stdout",
     "output_type": "stream",
     "text": [
      "shoe dog axe backpack\n",
      "../blender-4.1.1-linux-x64/blender --background --python render_objaverse.py -- --use_gpu 1 --objects shoe dog axe backpack --robjects 270,0,0 270,0,0 0,0,0 270,0,0 --sobjects 2.300000 0.800000 0.720000 0.800000 --objs_config CoCo_Configs/FourObjectUL.json --width 512 --height 512 --cam_x 0 --cam_y 0 --cam_z 15 --output_image_dir ../output/CoCoSmall-FourObject-UL/\n",
      "bottle dog bird shoe\n",
      "../blender-4.1.1-linux-x64/blender --background --python render_objaverse.py -- --use_gpu 1 --objects bottle dog bird shoe --robjects 270,0,0 270,0,0 270,0,0 270,0,0 --sobjects 2.300000 0.800000 1.120000 0.800000 --objs_config CoCo_Configs/FourObjectUL.json --width 512 --height 512 --cam_x 0 --cam_y 0 --cam_z 15 --output_image_dir ../output/CoCoSmall-FourObject-UL/\n",
      "bird bottle umberella dog\n",
      "../blender-4.1.1-linux-x64/blender --background --python render_objaverse.py -- --use_gpu 1 --objects bird bottle umberella dog --robjects 270,0,0 270,0,0 270,0,0 270,0,0 --sobjects 3.220000 0.800000 0.800000 0.800000 --objs_config CoCo_Configs/FourObjectUL.json --width 512 --height 512 --cam_x 0 --cam_y 0 --cam_z 15 --output_image_dir ../output/CoCoSmall-FourObject-UL/\n",
      "axe hat bird backpack\n",
      "../blender-4.1.1-linux-x64/blender --background --python render_objaverse.py -- --use_gpu 1 --objects axe hat bird backpack --robjects 0,0,0 300,0,0 270,0,0 270,0,0 --sobjects 2.070000 0.960000 1.120000 0.800000 --objs_config CoCo_Configs/FourObjectUL.json --width 512 --height 512 --cam_x 0 --cam_y 0 --cam_z 15 --output_image_dir ../output/CoCoSmall-FourObject-UL/\n",
      "bird shoe bottle backpack\n",
      "../blender-4.1.1-linux-x64/blender --background --python render_objaverse.py -- --use_gpu 1 --objects bird shoe bottle backpack --robjects 270,0,0 270,0,0 270,0,0 270,0,0 --sobjects 3.220000 0.800000 0.800000 0.800000 --objs_config CoCo_Configs/FourObjectUL.json --width 512 --height 512 --cam_x 0 --cam_y 0 --cam_z 15 --output_image_dir ../output/CoCoSmall-FourObject-UL/\n",
      "suitcase backpack bird shoe\n",
      "../blender-4.1.1-linux-x64/blender --background --python render_objaverse.py -- --use_gpu 1 --objects suitcase backpack bird shoe --robjects 300,0,0 270,0,0 270,0,0 270,0,0 --sobjects 2.300000 0.800000 1.120000 0.800000 --objs_config CoCo_Configs/FourObjectUL.json --width 512 --height 512 --cam_x 0 --cam_y 0 --cam_z 15 --output_image_dir ../output/CoCoSmall-FourObject-UL/\n",
      "bottle dog axe suitcase\n",
      "../blender-4.1.1-linux-x64/blender --background --python render_objaverse.py -- --use_gpu 1 --objects bottle dog axe suitcase --robjects 270,0,0 270,0,0 0,0,0 300,0,0 --sobjects 2.300000 0.800000 0.720000 0.800000 --objs_config CoCo_Configs/FourObjectUL.json --width 512 --height 512 --cam_x 0 --cam_y 0 --cam_z 15 --output_image_dir ../output/CoCoSmall-FourObject-UL/\n",
      "umberella dog suitcase axe\n",
      "../blender-4.1.1-linux-x64/blender --background --python render_objaverse.py -- --use_gpu 1 --objects umberella dog suitcase axe --robjects 270,0,0 270,0,0 300,0,0 0,0,0 --sobjects 2.300000 0.800000 0.800000 0.720000 --objs_config CoCo_Configs/FourObjectUL.json --width 512 --height 512 --cam_x 0 --cam_y 0 --cam_z 15 --output_image_dir ../output/CoCoSmall-FourObject-UL/\n",
      "axe hat backpack suitcase\n",
      "../blender-4.1.1-linux-x64/blender --background --python render_objaverse.py -- --use_gpu 1 --objects axe hat backpack suitcase --robjects 0,0,0 300,0,0 270,0,0 300,0,0 --sobjects 2.070000 0.960000 0.800000 0.800000 --objs_config CoCo_Configs/FourObjectUL.json --width 512 --height 512 --cam_x 0 --cam_y 0 --cam_z 15 --output_image_dir ../output/CoCoSmall-FourObject-UL/\n",
      "bird umberella backpack dog\n",
      "../blender-4.1.1-linux-x64/blender --background --python render_objaverse.py -- --use_gpu 1 --objects bird umberella backpack dog --robjects 270,0,0 270,0,0 270,0,0 270,0,0 --sobjects 3.220000 0.800000 0.800000 0.800000 --objs_config CoCo_Configs/FourObjectUL.json --width 512 --height 512 --cam_x 0 --cam_y 0 --cam_z 15 --output_image_dir ../output/CoCoSmall-FourObject-UL/\n"
     ]
    },
    {
     "ename": "KeyboardInterrupt",
     "evalue": "",
     "output_type": "error",
     "traceback": [
      "\u001b[0;31m---------------------------------------------------------------------------\u001b[0m",
      "\u001b[0;31mKeyboardInterrupt\u001b[0m                         Traceback (most recent call last)",
      "Cell \u001b[0;32mIn[23], line 59\u001b[0m\n\u001b[1;32m     57\u001b[0m new_command\u001b[38;5;241m=\u001b[39m\u001b[38;5;124m\"\u001b[39m\u001b[38;5;124m \u001b[39m\u001b[38;5;124m\"\u001b[39m\u001b[38;5;241m.\u001b[39mjoin(command)\n\u001b[1;32m     58\u001b[0m \u001b[38;5;28mprint\u001b[39m(new_command)\n\u001b[0;32m---> 59\u001b[0m \u001b[43msubprocess\u001b[49m\u001b[38;5;241;43m.\u001b[39;49m\u001b[43mrun\u001b[49m\u001b[43m(\u001b[49m\u001b[43m[\u001b[49m\u001b[38;5;124;43m\"\u001b[39;49m\u001b[38;5;124;43mbash\u001b[39;49m\u001b[38;5;124;43m\"\u001b[39;49m\u001b[43m,\u001b[49m\u001b[38;5;124;43m\"\u001b[39;49m\u001b[38;5;124;43m-c\u001b[39;49m\u001b[38;5;124;43m\"\u001b[39;49m\u001b[43m,\u001b[49m\u001b[43mnew_command\u001b[49m\u001b[43m]\u001b[49m\u001b[43m,\u001b[49m\u001b[43mcheck\u001b[49m\u001b[38;5;241;43m=\u001b[39;49m\u001b[38;5;28;43;01mFalse\u001b[39;49;00m\u001b[43m,\u001b[49m\n\u001b[1;32m     60\u001b[0m \u001b[43m\u001b[49m\u001b[43mstdout\u001b[49m\u001b[38;5;241;43m=\u001b[39;49m\u001b[43msubprocess\u001b[49m\u001b[38;5;241;43m.\u001b[39;49m\u001b[43mDEVNULL\u001b[49m\u001b[43m,\u001b[49m\n\u001b[1;32m     61\u001b[0m \u001b[43m\u001b[49m\u001b[43mstderr\u001b[49m\u001b[38;5;241;43m=\u001b[39;49m\u001b[43msubprocess\u001b[49m\u001b[38;5;241;43m.\u001b[39;49m\u001b[43mDEVNULL\u001b[49m\n\u001b[1;32m     62\u001b[0m \u001b[43m\u001b[49m\u001b[43m)\u001b[49m\n",
      "File \u001b[0;32m/usr/lib/python3.8/subprocess.py:495\u001b[0m, in \u001b[0;36mrun\u001b[0;34m(input, capture_output, timeout, check, *popenargs, **kwargs)\u001b[0m\n\u001b[1;32m    493\u001b[0m \u001b[38;5;28;01mwith\u001b[39;00m Popen(\u001b[38;5;241m*\u001b[39mpopenargs, \u001b[38;5;241m*\u001b[39m\u001b[38;5;241m*\u001b[39mkwargs) \u001b[38;5;28;01mas\u001b[39;00m process:\n\u001b[1;32m    494\u001b[0m     \u001b[38;5;28;01mtry\u001b[39;00m:\n\u001b[0;32m--> 495\u001b[0m         stdout, stderr \u001b[38;5;241m=\u001b[39m \u001b[43mprocess\u001b[49m\u001b[38;5;241;43m.\u001b[39;49m\u001b[43mcommunicate\u001b[49m\u001b[43m(\u001b[49m\u001b[38;5;28;43minput\u001b[39;49m\u001b[43m,\u001b[49m\u001b[43m \u001b[49m\u001b[43mtimeout\u001b[49m\u001b[38;5;241;43m=\u001b[39;49m\u001b[43mtimeout\u001b[49m\u001b[43m)\u001b[49m\n\u001b[1;32m    496\u001b[0m     \u001b[38;5;28;01mexcept\u001b[39;00m TimeoutExpired \u001b[38;5;28;01mas\u001b[39;00m exc:\n\u001b[1;32m    497\u001b[0m         process\u001b[38;5;241m.\u001b[39mkill()\n",
      "File \u001b[0;32m/usr/lib/python3.8/subprocess.py:1020\u001b[0m, in \u001b[0;36mPopen.communicate\u001b[0;34m(self, input, timeout)\u001b[0m\n\u001b[1;32m   1018\u001b[0m         stderr \u001b[38;5;241m=\u001b[39m \u001b[38;5;28mself\u001b[39m\u001b[38;5;241m.\u001b[39mstderr\u001b[38;5;241m.\u001b[39mread()\n\u001b[1;32m   1019\u001b[0m         \u001b[38;5;28mself\u001b[39m\u001b[38;5;241m.\u001b[39mstderr\u001b[38;5;241m.\u001b[39mclose()\n\u001b[0;32m-> 1020\u001b[0m     \u001b[38;5;28;43mself\u001b[39;49m\u001b[38;5;241;43m.\u001b[39;49m\u001b[43mwait\u001b[49m\u001b[43m(\u001b[49m\u001b[43m)\u001b[49m\n\u001b[1;32m   1021\u001b[0m \u001b[38;5;28;01melse\u001b[39;00m:\n\u001b[1;32m   1022\u001b[0m     \u001b[38;5;28;01mif\u001b[39;00m timeout \u001b[38;5;129;01mis\u001b[39;00m \u001b[38;5;129;01mnot\u001b[39;00m \u001b[38;5;28;01mNone\u001b[39;00m:\n",
      "File \u001b[0;32m/usr/lib/python3.8/subprocess.py:1083\u001b[0m, in \u001b[0;36mPopen.wait\u001b[0;34m(self, timeout)\u001b[0m\n\u001b[1;32m   1081\u001b[0m     endtime \u001b[38;5;241m=\u001b[39m _time() \u001b[38;5;241m+\u001b[39m timeout\n\u001b[1;32m   1082\u001b[0m \u001b[38;5;28;01mtry\u001b[39;00m:\n\u001b[0;32m-> 1083\u001b[0m     \u001b[38;5;28;01mreturn\u001b[39;00m \u001b[38;5;28;43mself\u001b[39;49m\u001b[38;5;241;43m.\u001b[39;49m\u001b[43m_wait\u001b[49m\u001b[43m(\u001b[49m\u001b[43mtimeout\u001b[49m\u001b[38;5;241;43m=\u001b[39;49m\u001b[43mtimeout\u001b[49m\u001b[43m)\u001b[49m\n\u001b[1;32m   1084\u001b[0m \u001b[38;5;28;01mexcept\u001b[39;00m \u001b[38;5;167;01mKeyboardInterrupt\u001b[39;00m:\n\u001b[1;32m   1085\u001b[0m     \u001b[38;5;66;03m# https://bugs.python.org/issue25942\u001b[39;00m\n\u001b[1;32m   1086\u001b[0m     \u001b[38;5;66;03m# The first keyboard interrupt waits briefly for the child to\u001b[39;00m\n\u001b[1;32m   1087\u001b[0m     \u001b[38;5;66;03m# exit under the common assumption that it also received the ^C\u001b[39;00m\n\u001b[1;32m   1088\u001b[0m     \u001b[38;5;66;03m# generated SIGINT and will exit rapidly.\u001b[39;00m\n\u001b[1;32m   1089\u001b[0m     \u001b[38;5;28;01mif\u001b[39;00m timeout \u001b[38;5;129;01mis\u001b[39;00m \u001b[38;5;129;01mnot\u001b[39;00m \u001b[38;5;28;01mNone\u001b[39;00m:\n",
      "File \u001b[0;32m/usr/lib/python3.8/subprocess.py:1806\u001b[0m, in \u001b[0;36mPopen._wait\u001b[0;34m(self, timeout)\u001b[0m\n\u001b[1;32m   1804\u001b[0m \u001b[38;5;28;01mif\u001b[39;00m \u001b[38;5;28mself\u001b[39m\u001b[38;5;241m.\u001b[39mreturncode \u001b[38;5;129;01mis\u001b[39;00m \u001b[38;5;129;01mnot\u001b[39;00m \u001b[38;5;28;01mNone\u001b[39;00m:\n\u001b[1;32m   1805\u001b[0m     \u001b[38;5;28;01mbreak\u001b[39;00m  \u001b[38;5;66;03m# Another thread waited.\u001b[39;00m\n\u001b[0;32m-> 1806\u001b[0m (pid, sts) \u001b[38;5;241m=\u001b[39m \u001b[38;5;28;43mself\u001b[39;49m\u001b[38;5;241;43m.\u001b[39;49m\u001b[43m_try_wait\u001b[49m\u001b[43m(\u001b[49m\u001b[38;5;241;43m0\u001b[39;49m\u001b[43m)\u001b[49m\n\u001b[1;32m   1807\u001b[0m \u001b[38;5;66;03m# Check the pid and loop as waitpid has been known to\u001b[39;00m\n\u001b[1;32m   1808\u001b[0m \u001b[38;5;66;03m# return 0 even without WNOHANG in odd situations.\u001b[39;00m\n\u001b[1;32m   1809\u001b[0m \u001b[38;5;66;03m# http://bugs.python.org/issue14396.\u001b[39;00m\n\u001b[1;32m   1810\u001b[0m \u001b[38;5;28;01mif\u001b[39;00m pid \u001b[38;5;241m==\u001b[39m \u001b[38;5;28mself\u001b[39m\u001b[38;5;241m.\u001b[39mpid:\n",
      "File \u001b[0;32m/usr/lib/python3.8/subprocess.py:1764\u001b[0m, in \u001b[0;36mPopen._try_wait\u001b[0;34m(self, wait_flags)\u001b[0m\n\u001b[1;32m   1762\u001b[0m \u001b[38;5;250m\u001b[39m\u001b[38;5;124;03m\"\"\"All callers to this function MUST hold self._waitpid_lock.\"\"\"\u001b[39;00m\n\u001b[1;32m   1763\u001b[0m \u001b[38;5;28;01mtry\u001b[39;00m:\n\u001b[0;32m-> 1764\u001b[0m     (pid, sts) \u001b[38;5;241m=\u001b[39m \u001b[43mos\u001b[49m\u001b[38;5;241;43m.\u001b[39;49m\u001b[43mwaitpid\u001b[49m\u001b[43m(\u001b[49m\u001b[38;5;28;43mself\u001b[39;49m\u001b[38;5;241;43m.\u001b[39;49m\u001b[43mpid\u001b[49m\u001b[43m,\u001b[49m\u001b[43m \u001b[49m\u001b[43mwait_flags\u001b[49m\u001b[43m)\u001b[49m\n\u001b[1;32m   1765\u001b[0m \u001b[38;5;28;01mexcept\u001b[39;00m \u001b[38;5;167;01mChildProcessError\u001b[39;00m:\n\u001b[1;32m   1766\u001b[0m     \u001b[38;5;66;03m# This happens if SIGCLD is set to be ignored or waiting\u001b[39;00m\n\u001b[1;32m   1767\u001b[0m     \u001b[38;5;66;03m# for child processes has otherwise been disabled for our\u001b[39;00m\n\u001b[1;32m   1768\u001b[0m     \u001b[38;5;66;03m# process.  This child is dead, we can't get the status.\u001b[39;00m\n\u001b[1;32m   1769\u001b[0m     pid \u001b[38;5;241m=\u001b[39m \u001b[38;5;28mself\u001b[39m\u001b[38;5;241m.\u001b[39mpid\n",
      "\u001b[0;31mKeyboardInterrupt\u001b[0m: "
     ]
    }
   ],
   "source": [
    "#4 object\n",
    "flat_shapes=[\"axe\",\"banana\",\"bed\",\"clock\",\"donut\",\"fork\",\"keyboard\",\n",
    "\"knife\",\"sink\",\"mouse\",\"skateboard\",\"remote\",\"scissors\",\n",
    "\"pizza\",\"plate\",\"toilet\",\"spoon\",\"ski\",\"snowboard\"]\n",
    "lean_shapes=[\"cup\",\"hat\",\"laptop\",\"suitcase\"]\n",
    "\n",
    "config_file=\"FourObjectUL.json\"\n",
    "output_folder=\"CoCoSmall-FourObject-UL\"\n",
    "\n",
    "for line in shape_candidates:\n",
    "    print(line.split(\"\\n\")[0])\n",
    "    shape1,shape2,shape3,shape4=line.split(\"\\n\")[0].split(\" \")\n",
    "    arg_shapes=shape1+\" \"+shape2+\" \"+shape3+\" \"+shape4\n",
    "    scale1=2.3\n",
    "    scale2=0.8\n",
    "    scale3=0.8\n",
    "    scale4=0.8\n",
    "\n",
    "    rotate1=\"270,0,0\"\n",
    "    rotate2=\"270,0,0\"\n",
    "    rotate3=\"270,0,0\"\n",
    "    rotate4=\"270,0,0\"\n",
    "\n",
    "    if shape1 in flat_shapes:\n",
    "        rotate1=\"0,0,0\"\n",
    "    if shape2 in flat_shapes:\n",
    "        rotate2=\"0,0,0\"\n",
    "    if shape3 in flat_shapes:\n",
    "        rotate3=\"0,0,0\"\n",
    "    if shape4 in flat_shapes:\n",
    "        rotate4=\"0,0,0\"\n",
    "\n",
    "    if shape1 in lean_shapes:\n",
    "        rotate1=\"300,0,0\"\n",
    "    if shape2 in lean_shapes:\n",
    "        rotate2=\"300,0,0\"\n",
    "    if shape3 in lean_shapes:\n",
    "        rotate3=\"300,0,0\"\n",
    "    if shape4 in lean_shapes:\n",
    "        rotate4=\"300,0,0\"\n",
    "\n",
    "    if shape1 in scales.keys():\n",
    "        scale1*=scales[shape1]\n",
    "    if shape2 in scales.keys():\n",
    "        scale2*= scales[shape2]\n",
    "    if shape3 in scales.keys():\n",
    "        scale3*= scales[shape3]\n",
    "    if shape4 in scales.keys():\n",
    "        scale4*= scales[shape4]\n",
    "\n",
    "    arg_scales=\"%f %f %f %f\" % (scale1,scale2,scale3,scale4)\n",
    "    command=f\"../blender-4.1.1-linux-x64/blender --background  --python render_objaverse.py -- --use_gpu 1  --objects %s\\\n",
    "        --robjects %s %s %s %s --sobjects %s --objs_config CoCo_Configs/{config_file} \\\n",
    "        --width 512 --height 512 --cam_x 0 --cam_y 0 --cam_z 15 --output_image_dir ../output/{output_folder}/\" % (arg_shapes,rotate1,rotate2,rotate3,rotate4,arg_scales)\n",
    "    command=list(filter(None,command.split(\" \")))\n",
    "    new_command=command[:5]\n",
    "    new_command=\" \".join(command)\n",
    "    print(new_command)\n",
    "    subprocess.run([\"bash\",\"-c\",new_command],check=False,\n",
    "    stdout=subprocess.DEVNULL,\n",
    "    stderr=subprocess.DEVNULL\n",
    "    )\n"
   ]
  },
  {
   "cell_type": "code",
   "execution_count": null,
   "metadata": {},
   "outputs": [],
   "source": []
  }
 ],
 "metadata": {
  "kernelspec": {
   "display_name": "Python 3",
   "language": "python",
   "name": "python3"
  },
  "language_info": {
   "codemirror_mode": {
    "name": "ipython",
    "version": 3
   },
   "file_extension": ".py",
   "mimetype": "text/x-python",
   "name": "python",
   "nbconvert_exporter": "python",
   "pygments_lexer": "ipython3",
   "version": "3.8.10"
  }
 },
 "nbformat": 4,
 "nbformat_minor": 2
}
