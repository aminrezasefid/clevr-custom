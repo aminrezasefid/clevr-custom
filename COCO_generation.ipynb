{
 "cells": [
  {
   "cell_type": "code",
   "execution_count": 2,
   "metadata": {},
   "outputs": [
    {
     "name": "stdout",
     "output_type": "stream",
     "text": [
      "--2024-06-23 10:59:04--  https://mirror.clarkson.edu/blender/release/Blender4.1/blender-4.1.1-linux-x64.tar.xz\n",
      "Resolving mirror.clarkson.edu (mirror.clarkson.edu)... 128.153.145.19, 2605:6480:c051:100::1\n",
      "Connecting to mirror.clarkson.edu (mirror.clarkson.edu)|128.153.145.19|:443... connected.\n",
      "HTTP request sent, awaiting response... 200 OK\n",
      "Length: 297954552 (284M) [application/octet-stream]\n",
      "Saving to: ‘blender-4.1.1-linux-x64.tar.xz’\n",
      "\n",
      "blender-4.1.1-linux 100%[===================>] 284.15M  1.00MB/s    in 6m 12s  \n",
      "\n",
      "2024-06-23 11:05:17 (783 KB/s) - ‘blender-4.1.1-linux-x64.tar.xz’ saved [297954552/297954552]\n",
      "\n"
     ]
    }
   ],
   "source": [
    "!wget https://mirror.clarkson.edu/blender/release/Blender4.1/blender-4.1.1-linux-x64.tar.xz && \\\n",
    "  tar -xf blender-4.1.1-linux-x64.tar.xz && \\\n",
    "  rm blender-4.1.1-linux-x64.tar.xz"
   ]
  },
  {
   "cell_type": "code",
   "execution_count": 3,
   "metadata": {},
   "outputs": [
    {
     "name": "stdout",
     "output_type": "stream",
     "text": [
      "\u001b[31mERROR: Could not find a version that satisfies the requirement sckit-learn (from versions: none)\u001b[0m\n",
      "\u001b[31mERROR: No matching distribution found for sckit-learn\u001b[0m\n"
     ]
    }
   ],
   "source": [
    "!pip install sckit-learn"
   ]
  },
  {
   "cell_type": "code",
   "execution_count": 3,
   "metadata": {},
   "outputs": [],
   "source": [
    "!echo $PWD/image_generation >> blender-4.1.1-linux-x64/4.1/python/lib/python3.11/site-packages/clevr.pth"
   ]
  },
  {
   "cell_type": "code",
   "execution_count": 2,
   "metadata": {},
   "outputs": [
    {
     "name": "stdout",
     "output_type": "stream",
     "text": [
      "/home/amin/clevr-custom/image_generation\n"
     ]
    }
   ],
   "source": [
    "%cd image_generation"
   ]
  },
  {
   "cell_type": "code",
   "execution_count": 16,
   "metadata": {},
   "outputs": [
    {
     "name": "stdout",
     "output_type": "stream",
     "text": [
      "Blender 4.1.1 (hash e1743a0317bc built 2024-04-15 23:47:45)\n",
      "Namespace(base_scene_blendfile='data/base_scene.blend', properties_json='objaverse_data/properties.json', shape_dir='objaverse_data/', objects=['circle'], sobjects=[0], robjects=[(0, 0, 0)], locobjects=[(0, 0)], objs_config='objaverse_data/config.json', output_image_dir='../output/images/', version='1.0', license='Creative Commons Attribution (CC-BY 4.0)', date='06/27/2024', cam_x=0.0, cam_y=-7.0, cam_z=10, use_gpu=1, width=1024, height=1024, render_num_samples=512, render_min_bounces=8, render_max_bounces=8, render_tile_size=256)\n",
      "Namespace(base_scene_blendfile='data/base_scene.blend', properties_json='objaverse_data/properties.json', shape_dir='objaverse_data/', objects=['carrot'], sobjects=[1.3], robjects=[[0, 0, 0]], locobjects=[[1, 1]], objs_config='objaverse_data/config.json', output_image_dir='../output/images/', version='1.0', license='Creative Commons Attribution (CC-BY 4.0)', date='06/27/2024', cam_x=0.0, cam_y=-7.0, cam_z=10, use_gpu=1, width=1024, height=1024, render_num_samples=512, render_min_bounces=8, render_max_bounces=8, render_tile_size=256)\n",
      "Read blend: \"/home/amin/clevr-custom/image_generation/data/base_scene.blend\"\n",
      "Warning: region type 4 missing in space type \"Info\" (id: 7) - removing region\n",
      "objaverse_data/Carrot.blend\n",
      "Fra:1 Mem:15.84M (Peak 15.84M) | Time:00:00.28 | Mem:0.00M, Peak:0.00M | Scene, RenderLayer | Synchronizing object | Ground\n",
      "Fra:1 Mem:15.84M (Peak 15.84M) | Time:00:00.28 | Mem:0.00M, Peak:0.00M | Scene, RenderLayer | Synchronizing object | Plane\n",
      "Fra:1 Mem:16.79M (Peak 17.03M) | Time:00:00.28 | Mem:0.00M, Peak:0.00M | Scene, RenderLayer | Initializing\n",
      "Fra:1 Mem:16.66M (Peak 17.03M) | Time:00:00.28 | Mem:0.00M, Peak:0.00M | Scene, RenderLayer | Updating Images | Loading Carrot_Normal_OpenGL.jpg\n",
      "Fra:1 Mem:16.66M (Peak 17.03M) | Time:00:00.28 | Mem:0.00M, Peak:0.00M | Scene, RenderLayer | Updating Images | Loading Carrot_Base_Color.jpg\n",
      "Fra:1 Mem:80.26M (Peak 176.71M) | Time:00:00.34 | Mem:64.00M, Peak:64.00M | Scene, RenderLayer | Waiting for render to start\n",
      "Fra:1 Mem:80.26M (Peak 176.71M) | Time:00:00.34 | Mem:64.00M, Peak:64.00M | Scene, RenderLayer | Loading render kernels (may take a few minutes the first time)\n",
      "Fra:1 Mem:80.26M (Peak 176.71M) | Time:00:00.40 | Mem:64.00M, Peak:64.00M | Scene, RenderLayer | Updating Scene\n",
      "Fra:1 Mem:80.26M (Peak 176.71M) | Time:00:00.40 | Mem:64.00M, Peak:64.00M | Scene, RenderLayer | Updating Shaders\n",
      "Fra:1 Mem:80.35M (Peak 176.71M) | Time:00:00.40 | Mem:64.00M, Peak:64.00M | Scene, RenderLayer | Updating Procedurals\n",
      "Fra:1 Mem:80.35M (Peak 176.71M) | Time:00:00.40 | Mem:64.00M, Peak:64.00M | Scene, RenderLayer | Updating Background\n",
      "Fra:1 Mem:80.35M (Peak 176.71M) | Time:00:00.40 | Mem:64.00M, Peak:64.00M | Scene, RenderLayer | Updating Camera\n",
      "Fra:1 Mem:80.35M (Peak 176.71M) | Time:00:00.40 | Mem:64.00M, Peak:64.00M | Scene, RenderLayer | Updating Meshes Flags\n",
      "Fra:1 Mem:80.35M (Peak 176.71M) | Time:00:00.40 | Mem:64.00M, Peak:64.00M | Scene, RenderLayer | Updating Objects\n",
      "Fra:1 Mem:80.35M (Peak 176.71M) | Time:00:00.40 | Mem:64.00M, Peak:64.00M | Scene, RenderLayer | Updating Objects | Copying Transformations to device\n",
      "Fra:1 Mem:80.35M (Peak 176.71M) | Time:00:00.40 | Mem:64.00M, Peak:64.00M | Scene, RenderLayer | Updating Objects | Applying Static Transformations\n",
      "Fra:1 Mem:80.35M (Peak 176.71M) | Time:00:00.40 | Mem:64.00M, Peak:64.00M | Scene, RenderLayer | Updating Particle Systems\n",
      "Fra:1 Mem:80.35M (Peak 176.71M) | Time:00:00.40 | Mem:64.00M, Peak:64.00M | Scene, RenderLayer | Updating Particle Systems | Copying Particles to device\n",
      "Fra:1 Mem:80.35M (Peak 176.71M) | Time:00:00.40 | Mem:64.00M, Peak:64.00M | Scene, RenderLayer | Updating Meshes\n",
      "Fra:1 Mem:80.45M (Peak 176.71M) | Time:00:00.40 | Mem:64.00M, Peak:64.00M | Scene, RenderLayer | Updating Mesh | Computing attributes\n",
      "Fra:1 Mem:80.85M (Peak 176.71M) | Time:00:00.40 | Mem:64.00M, Peak:64.00M | Scene, RenderLayer | Updating Mesh | Copying Attributes to device\n",
      "Fra:1 Mem:80.85M (Peak 176.71M) | Time:00:00.40 | Mem:64.40M, Peak:64.40M | Scene, RenderLayer | Updating Geometry BVH Carrot 1/1 | Building BVH\n",
      "Fra:1 Mem:81.16M (Peak 176.71M) | Time:00:00.40 | Mem:64.40M, Peak:64.40M | Scene, RenderLayer | Updating Geometry BVH Carrot 1/1 | Packing BVH triangles and strands\n",
      "Fra:1 Mem:81.18M (Peak 176.71M) | Time:00:00.40 | Mem:64.40M, Peak:64.40M | Scene, RenderLayer | Updating Geometry BVH Carrot 1/1 | Packing BVH nodes\n",
      "Fra:1 Mem:81.01M (Peak 176.71M) | Time:00:00.40 | Mem:64.40M, Peak:64.40M | Scene, RenderLayer | Updating Scene BVH | Building\n",
      "Fra:1 Mem:81.01M (Peak 176.71M) | Time:00:00.40 | Mem:64.40M, Peak:64.40M | Scene, RenderLayer | Updating Scene BVH | Building BVH\n",
      "Fra:1 Mem:81.10M (Peak 176.71M) | Time:00:00.40 | Mem:64.40M, Peak:64.40M | Scene, RenderLayer | Updating Scene BVH | Packing BVH triangles and strands\n",
      "Fra:1 Mem:81.10M (Peak 176.71M) | Time:00:00.40 | Mem:64.40M, Peak:64.40M | Scene, RenderLayer | Updating Scene BVH | Packing BVH nodes\n",
      "Fra:1 Mem:81.41M (Peak 176.71M) | Time:00:00.40 | Mem:64.40M, Peak:64.40M | Scene, RenderLayer | Updating Scene BVH | Copying BVH to device\n",
      "Fra:1 Mem:81.41M (Peak 176.71M) | Time:00:00.40 | Mem:64.60M, Peak:64.60M | Scene, RenderLayer | Updating Mesh | Computing normals\n",
      "Fra:1 Mem:81.65M (Peak 176.71M) | Time:00:00.40 | Mem:64.60M, Peak:64.60M | Scene, RenderLayer | Updating Mesh | Copying Mesh to device\n",
      "Fra:1 Mem:81.65M (Peak 176.71M) | Time:00:00.40 | Mem:64.85M, Peak:64.85M | Scene, RenderLayer | Updating Objects Flags\n",
      "Fra:1 Mem:81.65M (Peak 176.71M) | Time:00:00.40 | Mem:64.85M, Peak:64.85M | Scene, RenderLayer | Updating Primitive Offsets\n",
      "Fra:1 Mem:81.65M (Peak 176.71M) | Time:00:00.40 | Mem:64.85M, Peak:64.85M | Scene, RenderLayer | Updating Images\n",
      "Fra:1 Mem:81.65M (Peak 176.71M) | Time:00:00.40 | Mem:64.85M, Peak:64.85M | Scene, RenderLayer | Updating Camera Volume\n",
      "Fra:1 Mem:81.65M (Peak 176.71M) | Time:00:00.40 | Mem:64.85M, Peak:64.85M | Scene, RenderLayer | Updating Lookup Tables\n",
      "Fra:1 Mem:81.65M (Peak 176.71M) | Time:00:00.40 | Mem:64.93M, Peak:64.93M | Scene, RenderLayer | Updating Lights\n",
      "Fra:1 Mem:81.65M (Peak 176.71M) | Time:00:00.40 | Mem:64.93M, Peak:64.93M | Scene, RenderLayer | Updating Lights | Computing distribution\n",
      "Fra:1 Mem:81.65M (Peak 176.71M) | Time:00:00.40 | Mem:64.93M, Peak:64.93M | Scene, RenderLayer | Updating Integrator\n",
      "Fra:1 Mem:83.65M (Peak 176.71M) | Time:00:00.40 | Mem:66.93M, Peak:66.93M | Scene, RenderLayer | Updating Film\n",
      "Fra:1 Mem:83.66M (Peak 176.71M) | Time:00:00.41 | Mem:66.85M, Peak:66.93M | Scene, RenderLayer | Updating Lookup Tables\n",
      "Fra:1 Mem:83.66M (Peak 176.71M) | Time:00:00.41 | Mem:66.93M, Peak:66.93M | Scene, RenderLayer | Updating Baking\n",
      "Fra:1 Mem:83.66M (Peak 176.71M) | Time:00:00.41 | Mem:66.93M, Peak:66.93M | Scene, RenderLayer | Updating Device | Writing constant memory\n",
      "Fra:1 Mem:95.35M (Peak 176.71M) | Time:00:00.42 | Mem:66.93M, Peak:66.93M | Scene, RenderLayer | Sample 0/512\n",
      "Fra:1 Mem:115.35M (Peak 176.71M) | Time:00:00.43 | Remaining:00:08.58 | Mem:66.93M, Peak:66.93M | Scene, RenderLayer | Sample 1/512\n",
      "Fra:1 Mem:115.36M (Peak 176.71M) | Time:00:00.59 | Remaining:00:05.81 | Mem:66.93M, Peak:86.93M | Scene, RenderLayer | Sample 15/512\n",
      "Fra:1 Mem:115.36M (Peak 176.71M) | Time:00:00.85 | Remaining:00:04.57 | Mem:66.93M, Peak:86.93M | Scene, RenderLayer | Sample 44/512\n",
      "Fra:1 Mem:115.37M (Peak 176.71M) | Time:00:01.19 | Remaining:00:03.64 | Mem:66.93M, Peak:86.93M | Scene, RenderLayer | Sample 90/512\n",
      "Fra:1 Mem:115.38M (Peak 176.71M) | Time:00:01.69 | Remaining:00:02.85 | Mem:66.93M, Peak:86.93M | Scene, RenderLayer | Sample 158/512\n",
      "Fra:1 Mem:115.38M (Peak 176.71M) | Time:00:02.17 | Remaining:00:02.22 | Mem:66.93M, Peak:86.93M | Scene, RenderLayer | Sample 226/512\n",
      "Fra:1 Mem:135.41M (Peak 176.71M) | Time:00:04.19 | Mem:66.93M, Peak:86.93M | Scene, RenderLayer | Sample 512/512\n",
      "Fra:1 Mem:135.41M (Peak 176.71M) | Time:00:04.19 | Mem:66.93M, Peak:86.93M | Scene, RenderLayer | Finished\n",
      "Saved: '../output/images/carrot.png'\n",
      "Time: 00:04.46 (Saving: 00:00.09)\n",
      "\n",
      "\n",
      "Blender quit\n"
     ]
    }
   ],
   "source": [
    "!../blender-4.1.1-linux-x64/blender --background --python render_objaverse.py --  --use_gpu 1 --objs_config objaverse_data/config.json --width 1024 --height 1024 \n"
   ]
  },
  {
   "cell_type": "code",
   "execution_count": null,
   "metadata": {},
   "outputs": [],
   "source": []
  }
 ],
 "metadata": {
  "kernelspec": {
   "display_name": "Python 3",
   "language": "python",
   "name": "python3"
  },
  "language_info": {
   "codemirror_mode": {
    "name": "ipython",
    "version": 3
   },
   "file_extension": ".py",
   "mimetype": "text/x-python",
   "name": "python",
   "nbconvert_exporter": "python",
   "pygments_lexer": "ipython3",
   "version": "3.8.10"
  }
 },
 "nbformat": 4,
 "nbformat_minor": 2
}
