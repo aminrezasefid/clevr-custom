{
 "cells": [
  {
   "cell_type": "code",
   "execution_count": 2,
   "metadata": {},
   "outputs": [
    {
     "name": "stdout",
     "output_type": "stream",
     "text": [
      "--2024-06-23 10:59:04--  https://mirror.clarkson.edu/blender/release/Blender4.1/blender-4.1.1-linux-x64.tar.xz\n",
      "Resolving mirror.clarkson.edu (mirror.clarkson.edu)... 128.153.145.19, 2605:6480:c051:100::1\n",
      "Connecting to mirror.clarkson.edu (mirror.clarkson.edu)|128.153.145.19|:443... connected.\n",
      "HTTP request sent, awaiting response... 200 OK\n",
      "Length: 297954552 (284M) [application/octet-stream]\n",
      "Saving to: ‘blender-4.1.1-linux-x64.tar.xz’\n",
      "\n",
      "blender-4.1.1-linux 100%[===================>] 284.15M  1.00MB/s    in 6m 12s  \n",
      "\n",
      "2024-06-23 11:05:17 (783 KB/s) - ‘blender-4.1.1-linux-x64.tar.xz’ saved [297954552/297954552]\n",
      "\n"
     ]
    }
   ],
   "source": [
    "!wget https://mirror.clarkson.edu/blender/release/Blender4.1/blender-4.1.1-linux-x64.tar.xz && \\\n",
    "  tar -xf blender-4.1.1-linux-x64.tar.xz && \\\n",
    "  rm blender-4.1.1-linux-x64.tar.xz"
   ]
  },
  {
   "cell_type": "code",
   "execution_count": 3,
   "metadata": {},
   "outputs": [
    {
     "name": "stdout",
     "output_type": "stream",
     "text": [
      "\u001b[31mERROR: Could not find a version that satisfies the requirement sckit-learn (from versions: none)\u001b[0m\n",
      "\u001b[31mERROR: No matching distribution found for sckit-learn\u001b[0m\n"
     ]
    }
   ],
   "source": [
    "!pip install sckit-learn"
   ]
  },
  {
   "cell_type": "code",
   "execution_count": 3,
   "metadata": {},
   "outputs": [],
   "source": [
    "!echo $PWD/image_generation >> blender-4.1.1-linux-x64/4.1/python/lib/python3.11/site-packages/clevr.pth"
   ]
  },
  {
   "cell_type": "code",
   "execution_count": 1,
   "metadata": {},
   "outputs": [
    {
     "name": "stdout",
     "output_type": "stream",
     "text": [
      "/home/amin/clevr-custom/image_generation\n"
     ]
    }
   ],
   "source": [
    "%cd image_generation"
   ]
  },
  {
   "cell_type": "code",
   "execution_count": 30,
   "metadata": {},
   "outputs": [
    {
     "name": "stdout",
     "output_type": "stream",
     "text": [
      "Blender 4.1.1 (hash e1743a0317bc built 2024-04-15 23:47:45)\n",
      "Namespace(base_scene_blendfile='data/base_scene.blend', properties_json='objaverse_data/properties.json', shape_dir='objaverse_data/', objects=['circle'], sobjects=[0], robjects=[(0, 0, 0)], locobjects=[(0, 0)], objs_config='objaverse_data/config.json', output_image_dir='../output/images/', version='1.0', license='Creative Commons Attribution (CC-BY 4.0)', date='06/29/2024', cam_x=0.0, cam_y=-7.0, cam_z=10, use_gpu=1, width=1024, height=1024, render_num_samples=512, render_min_bounces=8, render_max_bounces=8, render_tile_size=256)\n",
      "Namespace(base_scene_blendfile='data/base_scene.blend', properties_json='objaverse_data/properties.json', shape_dir='objaverse_data/', objects=['toothbrush'], sobjects=[1.3], robjects=[[0, 0, 0]], locobjects=[[1, 1]], objs_config='objaverse_data/config.json', output_image_dir='../output/images/', version='1.0', license='Creative Commons Attribution (CC-BY 4.0)', date='06/29/2024', cam_x=0.0, cam_y=-7.0, cam_z=10, use_gpu=1, width=1024, height=1024, render_num_samples=512, render_min_bounces=8, render_max_bounces=8, render_tile_size=256)\n",
      "Read blend: \"/home/amin/clevr-custom/image_generation/data/base_scene.blend\"\n",
      "Warning: region type 4 missing in space type \"Info\" (id: 7) - removing region\n",
      "objaverse_data/Toothbrush.blend\n",
      "Fra:1 Mem:19.08M (Peak 19.08M) | Time:00:00.45 | Mem:0.00M, Peak:0.00M | Scene, RenderLayer | Synchronizing object | Ground\n",
      "Fra:1 Mem:19.19M (Peak 19.19M) | Time:00:00.45 | Mem:0.00M, Peak:0.00M | Scene, RenderLayer | Synchronizing object | Plane\n",
      "Fra:1 Mem:27.92M (Peak 39.12M) | Time:00:00.47 | Mem:0.00M, Peak:0.00M | Scene, RenderLayer | Initializing\n",
      "Fra:1 Mem:27.28M (Peak 39.12M) | Time:00:00.47 | Mem:0.00M, Peak:0.00M | Scene, RenderLayer | Waiting for render to start\n",
      "Fra:1 Mem:27.28M (Peak 39.12M) | Time:00:00.47 | Mem:0.00M, Peak:0.00M | Scene, RenderLayer | Loading render kernels (may take a few minutes the first time)\n",
      "Fra:1 Mem:27.28M (Peak 48.67M) | Time:00:00.56 | Mem:0.00M, Peak:0.00M | Scene, RenderLayer | Updating Scene\n",
      "Fra:1 Mem:27.28M (Peak 48.67M) | Time:00:00.56 | Mem:0.00M, Peak:0.00M | Scene, RenderLayer | Updating Shaders\n",
      "Fra:1 Mem:27.37M (Peak 48.67M) | Time:00:00.57 | Mem:0.00M, Peak:0.00M | Scene, RenderLayer | Updating Procedurals\n",
      "Fra:1 Mem:27.37M (Peak 48.67M) | Time:00:00.57 | Mem:0.00M, Peak:0.00M | Scene, RenderLayer | Updating Background\n",
      "Fra:1 Mem:27.37M (Peak 48.67M) | Time:00:00.57 | Mem:0.00M, Peak:0.00M | Scene, RenderLayer | Updating Camera\n",
      "Fra:1 Mem:27.37M (Peak 48.67M) | Time:00:00.57 | Mem:0.00M, Peak:0.00M | Scene, RenderLayer | Updating Meshes Flags\n",
      "Fra:1 Mem:27.37M (Peak 48.67M) | Time:00:00.57 | Mem:0.00M, Peak:0.00M | Scene, RenderLayer | Updating Objects\n",
      "Fra:1 Mem:27.37M (Peak 48.67M) | Time:00:00.57 | Mem:0.00M, Peak:0.00M | Scene, RenderLayer | Updating Objects | Copying Transformations to device\n",
      "Fra:1 Mem:27.37M (Peak 48.67M) | Time:00:00.57 | Mem:0.01M, Peak:0.01M | Scene, RenderLayer | Updating Objects | Applying Static Transformations\n",
      "Fra:1 Mem:27.37M (Peak 48.67M) | Time:00:00.57 | Mem:0.01M, Peak:0.01M | Scene, RenderLayer | Updating Particle Systems\n",
      "Fra:1 Mem:27.37M (Peak 48.67M) | Time:00:00.57 | Mem:0.01M, Peak:0.01M | Scene, RenderLayer | Updating Particle Systems | Copying Particles to device\n",
      "Fra:1 Mem:27.37M (Peak 48.67M) | Time:00:00.58 | Mem:0.01M, Peak:0.01M | Scene, RenderLayer | Updating Meshes\n",
      "Fra:1 Mem:28.68M (Peak 48.67M) | Time:00:00.58 | Mem:0.01M, Peak:0.01M | Scene, RenderLayer | Updating Mesh | Computing attributes\n",
      "Fra:1 Mem:29.40M (Peak 48.67M) | Time:00:00.58 | Mem:0.01M, Peak:0.01M | Scene, RenderLayer | Updating Mesh | Copying Attributes to device\n",
      "Fra:1 Mem:29.40M (Peak 48.67M) | Time:00:00.59 | Mem:0.73M, Peak:0.73M | Scene, RenderLayer | Updating Scene BVH | Building\n",
      "Fra:1 Mem:29.40M (Peak 48.67M) | Time:00:00.59 | Mem:0.73M, Peak:0.73M | Scene, RenderLayer | Updating Scene BVH | Building BVH\n",
      "Fra:1 Mem:34.30M (Peak 48.67M) | Time:00:00.61 | Mem:0.73M, Peak:0.73M | Scene, RenderLayer | Updating Scene BVH | Packing BVH triangles and strands\n",
      "Fra:1 Mem:34.63M (Peak 48.67M) | Time:00:00.61 | Mem:0.73M, Peak:0.73M | Scene, RenderLayer | Updating Scene BVH | Packing BVH nodes\n",
      "Fra:1 Mem:34.58M (Peak 48.67M) | Time:00:00.62 | Mem:0.73M, Peak:0.73M | Scene, RenderLayer | Updating Scene BVH | Copying BVH to device\n",
      "Fra:1 Mem:34.58M (Peak 48.67M) | Time:00:00.65 | Mem:3.32M, Peak:3.32M | Scene, RenderLayer | Updating Mesh | Computing normals\n",
      "Fra:1 Mem:38.18M (Peak 48.67M) | Time:00:00.65 | Mem:3.32M, Peak:3.32M | Scene, RenderLayer | Updating Mesh | Copying Mesh to device\n",
      "Fra:1 Mem:38.18M (Peak 48.67M) | Time:00:00.66 | Mem:6.92M, Peak:6.92M | Scene, RenderLayer | Updating Objects Flags\n",
      "Fra:1 Mem:38.18M (Peak 48.67M) | Time:00:00.67 | Mem:6.92M, Peak:6.92M | Scene, RenderLayer | Updating Primitive Offsets\n",
      "Fra:1 Mem:38.18M (Peak 48.67M) | Time:00:00.67 | Mem:6.92M, Peak:6.92M | Scene, RenderLayer | Updating Images\n",
      "Fra:1 Mem:38.18M (Peak 48.67M) | Time:00:00.67 | Mem:6.92M, Peak:6.92M | Scene, RenderLayer | Updating Camera Volume\n",
      "Fra:1 Mem:38.18M (Peak 48.67M) | Time:00:00.67 | Mem:6.92M, Peak:6.92M | Scene, RenderLayer | Updating Lookup Tables\n",
      "Fra:1 Mem:38.18M (Peak 48.67M) | Time:00:00.68 | Mem:7.00M, Peak:7.00M | Scene, RenderLayer | Updating Lights\n",
      "Fra:1 Mem:38.18M (Peak 48.67M) | Time:00:00.68 | Mem:7.01M, Peak:7.01M | Scene, RenderLayer | Updating Lights | Computing distribution\n",
      "Fra:1 Mem:38.18M (Peak 48.67M) | Time:00:00.68 | Mem:7.01M, Peak:7.01M | Scene, RenderLayer | Updating Integrator\n",
      "Fra:1 Mem:40.18M (Peak 48.67M) | Time:00:00.69 | Mem:9.01M, Peak:9.01M | Scene, RenderLayer | Updating Film\n",
      "Fra:1 Mem:40.19M (Peak 48.67M) | Time:00:00.69 | Mem:8.92M, Peak:9.01M | Scene, RenderLayer | Updating Lookup Tables\n",
      "Fra:1 Mem:40.19M (Peak 48.67M) | Time:00:00.69 | Mem:9.01M, Peak:9.01M | Scene, RenderLayer | Updating Baking\n",
      "Fra:1 Mem:40.19M (Peak 48.67M) | Time:00:00.69 | Mem:9.01M, Peak:9.01M | Scene, RenderLayer | Updating Device | Writing constant memory\n",
      "Fra:1 Mem:51.88M (Peak 51.88M) | Time:00:00.70 | Mem:9.01M, Peak:9.01M | Scene, RenderLayer | Sample 0/512\n",
      "Fra:1 Mem:71.88M (Peak 71.88M) | Time:00:00.81 | Remaining:00:53.55 | Mem:9.01M, Peak:9.01M | Scene, RenderLayer | Sample 1/512\n",
      "Fra:1 Mem:71.89M (Peak 96.96M) | Time:00:01.09 | Remaining:00:14.75 | Mem:9.01M, Peak:29.01M | Scene, RenderLayer | Sample 13/512\n",
      "Fra:1 Mem:71.90M (Peak 96.96M) | Time:00:01.64 | Remaining:00:10.47 | Mem:9.01M, Peak:29.01M | Scene, RenderLayer | Sample 42/512\n",
      "Fra:1 Mem:71.90M (Peak 96.96M) | Time:00:02.48 | Remaining:00:08.33 | Mem:9.01M, Peak:29.01M | Scene, RenderLayer | Sample 90/512\n",
      "Fra:1 Mem:71.91M (Peak 96.96M) | Time:00:03.59 | Remaining:00:06.35 | Mem:9.01M, Peak:29.01M | Scene, RenderLayer | Sample 160/512\n",
      "Fra:1 Mem:71.92M (Peak 96.96M) | Time:00:04.65 | Remaining:00:04.83 | Mem:9.01M, Peak:29.01M | Scene, RenderLayer | Sample 230/512\n",
      "Fra:1 Mem:71.92M (Peak 96.96M) | Time:00:05.68 | Remaining:00:03.51 | Mem:9.01M, Peak:29.01M | Scene, RenderLayer | Sample 300/512\n",
      "Fra:1 Mem:71.92M (Peak 96.96M) | Time:00:06.69 | Remaining:00:02.29 | Mem:9.01M, Peak:29.01M | Scene, RenderLayer | Sample 370/512\n",
      "Fra:1 Mem:71.92M (Peak 96.96M) | Time:00:07.69 | Remaining:00:01.14 | Mem:9.01M, Peak:29.01M | Scene, RenderLayer | Sample 440/512\n",
      "Fra:1 Mem:91.92M (Peak 127.92M) | Time:00:08.73 | Mem:9.01M, Peak:29.01M | Scene, RenderLayer | Sample 512/512\n",
      "Fra:1 Mem:91.92M (Peak 127.92M) | Time:00:08.73 | Mem:9.01M, Peak:29.01M | Scene, RenderLayer | Finished\n",
      "Saved: '../output/images/toothbrush.png'\n",
      "Time: 00:09.08 (Saving: 00:00.08)\n",
      "\n",
      "\n",
      "Blender quit\n"
     ]
    }
   ],
   "source": [
    "!../blender-4.1.1-linux-x64/blender --background --python render_objaverse.py --  --use_gpu 1 --objs_config objaverse_data/config.json --width 1024 --height 1024"
   ]
  },
  {
   "cell_type": "code",
   "execution_count": 2,
   "metadata": {},
   "outputs": [
    {
     "name": "stdout",
     "output_type": "stream",
     "text": [
      "/home/amin/clevr-custom/image_generation\n"
     ]
    }
   ],
   "source": [
    "%cd image_generation/"
   ]
  },
  {
   "cell_type": "code",
   "execution_count": 11,
   "metadata": {},
   "outputs": [
    {
     "name": "stdout",
     "output_type": "stream",
     "text": [
      "../blender-4.1.1-linux-x64/blender --background --python render_objaverse.py -- --use_gpu 1 --objects cup clock --robjects 300,0,0 0,0,0 --sobjects 1.800000 0.730000 --objs_config CoCo_Configs/TwoObjectLR.json --width 512 --height 512 --cam_x 0 --cam_y 0 --cam_z 12 --output_image_dir ../output/CoCo-TwoObject-Left-Big/\n",
      "../blender-4.1.1-linux-x64/blender --background --python render_objaverse.py -- --use_gpu 1 --objects cup banana --robjects 300,0,0 0,0,0 --sobjects 1.800000 0.730000 --objs_config CoCo_Configs/TwoObjectLR.json --width 512 --height 512 --cam_x 0 --cam_y 0 --cam_z 12 --output_image_dir ../output/CoCo-TwoObject-Left-Big/\n",
      "../blender-4.1.1-linux-x64/blender --background --python render_objaverse.py -- --use_gpu 1 --objects clock cup --robjects 0,0,0 300,0,0 --sobjects 1.800000 0.730000 --objs_config CoCo_Configs/TwoObjectLR.json --width 512 --height 512 --cam_x 0 --cam_y 0 --cam_z 12 --output_image_dir ../output/CoCo-TwoObject-Left-Big/\n",
      "../blender-4.1.1-linux-x64/blender --background --python render_objaverse.py -- --use_gpu 1 --objects clock banana --robjects 0,0,0 0,0,0 --sobjects 1.800000 0.730000 --objs_config CoCo_Configs/TwoObjectLR.json --width 512 --height 512 --cam_x 0 --cam_y 0 --cam_z 12 --output_image_dir ../output/CoCo-TwoObject-Left-Big/\n",
      "../blender-4.1.1-linux-x64/blender --background --python render_objaverse.py -- --use_gpu 1 --objects banana cup --robjects 0,0,0 300,0,0 --sobjects 1.800000 0.730000 --objs_config CoCo_Configs/TwoObjectLR.json --width 512 --height 512 --cam_x 0 --cam_y 0 --cam_z 12 --output_image_dir ../output/CoCo-TwoObject-Left-Big/\n",
      "../blender-4.1.1-linux-x64/blender --background --python render_objaverse.py -- --use_gpu 1 --objects banana clock --robjects 0,0,0 0,0,0 --sobjects 1.800000 0.730000 --objs_config CoCo_Configs/TwoObjectLR.json --width 512 --height 512 --cam_x 0 --cam_y 0 --cam_z 12 --output_image_dir ../output/CoCo-TwoObject-Left-Big/\n"
     ]
    }
   ],
   "source": [
    "import json\n",
    "import subprocess\n",
    "with open(\"CoCo_Configs/properties.json\", 'r') as f:\n",
    "    properties = json.load(f)\n",
    "with open(\"CoCo_Configs/Scales.json\") as f:\n",
    "    scales=json.load(f)\n",
    "shapes=list(properties[\"shapes\"].keys())\n",
    "shapes=[\"cup\",\"clock\",\"banana\"]\n",
    "flat_shapes=[\"axe\",\"banana\",\"bed\",\"clock\",\"donut\",\"fork\",\"keyboard\",\n",
    "\"knife\",\"sink\",\"mouse\",\"skateboard\",\"remote\",\"scissors\",\n",
    "\"pizza\",\"plate\",\"toilet\",\"spoon\",\"ski\",\"snowboard\"]\n",
    "lean_shapes=[\"cup\",\"hat\",\"laptop\",\"suitcase\"]\n",
    "\n",
    "config_file=\"TwoObjectLR.json\"\n",
    "output_folder=\"CoCo-TwoObject-Left-Big\"\n",
    "for shape1 in shapes:\n",
    "    for shape2 in shapes:\n",
    "            if shape1==shape2:\n",
    "                continue\n",
    "            arg_shapes=shape1+\" \"+shape2\n",
    "            scale1=0.73\n",
    "            scale2=1.65\n",
    "            \n",
    "            scale1=1.8\n",
    "            scale2=0.73\n",
    "            rotate1=\"270,0,0\"\n",
    "            rotate2=\"270,0,0\"\n",
    "            if shape1 in flat_shapes:\n",
    "                rotate1=\"0,0,0\"\n",
    "            if shape2 in flat_shapes:\n",
    "                rotate2=\"0,0,0\"\n",
    "            \n",
    "            if shape1 in lean_shapes:\n",
    "                rotate1=\"300,0,0\"\n",
    "            if shape2 in lean_shapes:\n",
    "                rotate2=\"300,0,0\"\n",
    "\n",
    "            if shape1 in scales.keys():\n",
    "                scale1*=scales[shape1]\n",
    "            if shape2 in scales.keys():\n",
    "                scale2*= scales[shape2]\n",
    "            \n",
    "            arg_scales=\"%f %f\" % (scale1,scale2)\n",
    "            command=f\"../blender-4.1.1-linux-x64/blender --background  --python render_objaverse.py -- --use_gpu 1  --objects %s\\\n",
    "                --robjects %s %s --sobjects %s --objs_config CoCo_Configs/{config_file} \\\n",
    "                --width 512 --height 512 --cam_x 0 --cam_y 0 --cam_z 12 --output_image_dir ../output/{output_folder}/\" % (arg_shapes,rotate1,rotate2,arg_scales)\n",
    "            command=list(filter(None,command.split(\" \")))\n",
    "            new_command=command[:5]\n",
    "            new_command=\" \".join(command)\n",
    "            print(new_command)\n",
    "            subprocess.run([\"bash\",\"-c\",new_command],check=False,\n",
    "            stdout=subprocess.DEVNULL,\n",
    "            stderr=subprocess.DEVNULL\n",
    "            )"
   ]
  },
  {
   "cell_type": "code",
   "execution_count": 15,
   "metadata": {},
   "outputs": [],
   "source": [
    "#3 object names generation\n",
    "import json\n",
    "import subprocess\n",
    "with open(\"CoCo_Configs/properties.json\", 'r') as f:\n",
    "    properties = json.load(f)\n",
    "with open(\"CoCo_Configs/Scales.json\") as f:\n",
    "    scales=json.load(f)\n",
    "shapes=list(properties[\"shapes\"].keys())\n",
    "#shapes=[\"cup\",\"clock\",\"banana\"]\n",
    "flat_shapes=[\"axe\",\"banana\",\"bed\",\"clock\",\"donut\",\"fork\",\"keyboard\",\n",
    "\"knife\",\"sink\",\"mouse\",\"skateboard\",\"remote\",\"scissors\",\n",
    "\"pizza\",\"plate\",\"toilet\",\"spoon\",\"ski\",\"snowboard\"]\n",
    "lean_shapes=[\"cup\",\"hat\",\"laptop\",\"suitcase\"]\n",
    "\n",
    "config_file=\"ThreeObjectSameSize.json\"\n",
    "output_folder=\"CoCo-TwoObject-Left-Big\"\n",
    "df_dict={\"ObjectNames\":[]}\n",
    "for shape1 in shapes:\n",
    "    for shape2 in shapes:\n",
    "        for shape3 in shapes:\n",
    "            if shape1==shape2 or shape1==shape3 or shape2==shape3:\n",
    "                continue\n",
    "            arg_shapes=shape1+\" \"+shape2+\" \"+shape3\n",
    "            df_dict[\"ObjectNames\"].append(arg_shapes)\n",
    "import pandas as pd\n",
    "df=pd.DataFrame.from_dict(df_dict)\n",
    "df.to_csv(\"CoCo-3Object-Names.csv\",index=False)\n"
   ]
  },
  {
   "cell_type": "code",
   "execution_count": 3,
   "metadata": {},
   "outputs": [
    {
     "name": "stdout",
     "output_type": "stream",
     "text": [
      "/home/amin/clevr-custom/image_generation\n"
     ]
    }
   ],
   "source": [
    "%cd image_generation/"
   ]
  },
  {
   "cell_type": "code",
   "execution_count": 4,
   "metadata": {},
   "outputs": [],
   "source": [
    "#4 object names generation\n",
    "import json\n",
    "import subprocess\n",
    "with open(\"CoCo_Configs/properties.json\", 'r') as f:\n",
    "    properties = json.load(f)\n",
    "with open(\"CoCo_Configs/Scales.json\") as f:\n",
    "    scales=json.load(f)\n",
    "shapes=list(properties[\"shapes\"].keys())\n",
    "#shapes=[\"cup\",\"clock\",\"banana\"]\n",
    "flat_shapes=[\"axe\",\"banana\",\"bed\",\"clock\",\"donut\",\"fork\",\"keyboard\",\n",
    "\"knife\",\"sink\",\"mouse\",\"skateboard\",\"remote\",\"scissors\",\n",
    "\"pizza\",\"plate\",\"toilet\",\"spoon\",\"ski\",\"snowboard\"]\n",
    "lean_shapes=[\"cup\",\"hat\",\"laptop\",\"suitcase\"]\n",
    "\n",
    "config_file  = \"ThreeObjectSameSize.json\"\n",
    "output_folder= \"CoCo-TwoObject-Left-Big\"\n",
    "df_dict={\"ObjectNames\":[]}\n",
    "for shape1 in shapes:\n",
    "    for shape2 in shapes:\n",
    "        for shape3 in shapes:\n",
    "            for shape4 in shapes:\n",
    "                if shape1==shape2 or shape1==shape3 or shape2==shape3 or shape1==shape4 or shape2==shape4 or shape3==shape4:\n",
    "                    continue\n",
    "                arg_shapes=shape1+\" \"+shape2+\" \"+shape3+\" \"+shape4\n",
    "                df_dict[\"ObjectNames\"].append(arg_shapes)\n",
    "import pandas as pd\n",
    "df=pd.DataFrame.from_dict(df_dict)\n",
    "df.to_csv(\"CoCo-4Object-Names.csv\",index=False)\n"
   ]
  },
  {
   "cell_type": "code",
   "execution_count": 2,
   "metadata": {},
   "outputs": [
    {
     "name": "stdout",
     "output_type": "stream",
     "text": [
      "/home/amin/clevr-custom/image_generation\n"
     ]
    }
   ],
   "source": [
    "%cd image_generation/"
   ]
  },
  {
   "cell_type": "code",
   "execution_count": 31,
   "metadata": {},
   "outputs": [
    {
     "data": {
      "text/plain": [
       "5708"
      ]
     },
     "execution_count": 31,
     "metadata": {},
     "output_type": "execute_result"
    }
   ],
   "source": [
    "len(obj_list)"
   ]
  },
  {
   "cell_type": "code",
   "execution_count": null,
   "metadata": {},
   "outputs": [],
   "source": [
    "#3 object\n",
    "import pandas as pd\n",
    "import subprocess\n",
    "import json\n",
    "import random\n",
    "random.seed(42)\n",
    "object_name_file=\"CoCo-3Object-Names-same-size.csv\"\n",
    "remainder_name_file=\"CoCo-3Object-Names-remainder.csv\"\n",
    "\n",
    "df=pd.read_csv(object_name_file)\n",
    "\n",
    "idx_list=random.sample(range(len(df)),2300)\n",
    "\n",
    "shape_names=df.iloc[idx_list][\"ObjectNames\"]\n",
    "df.drop(idx_list).to_csv(remainder_name_file,index=False)\n",
    "with open(\"CoCo_Configs/properties.json\", 'r') as f:\n",
    "    properties = json.load(f)\n",
    "with open(\"CoCo_Configs/Scales.json\") as f:\n",
    "    scales=json.load(f)\n",
    "shapes=list(properties[\"shapes\"].keys())\n",
    "shapes=[\"cup\",\"clock\",\"banana\"]\n",
    "flat_shapes=[\"axe\",\"banana\",\"bed\",\"clock\",\"donut\",\"fork\",\"keyboard\",\n",
    "\"knife\",\"sink\",\"mouse\",\"skateboard\",\"remote\",\"scissors\",\n",
    "\"pizza\",\"plate\",\"toilet\",\"spoon\",\"ski\",\"snowboard\"]\n",
    "lean_shapes=[\"cup\",\"hat\",\"laptop\",\"suitcase\"]\n",
    "\n",
    "config_file=\"ThreeObject.json\"\n",
    "output_folder=\"CoCo-ThreeObject-Same-Size\"\n",
    "\n",
    "for line in shape_names:\n",
    "    print(line.split(\"\\n\")[0])\n",
    "    shape1,shape2,shape3=line.split(\"\\n\")[0].split(\" \")\n",
    "    arg_shapes=shape1+\" \"+shape2+\" \"+shape3\n",
    "    scale1=1\n",
    "    scale2=1\n",
    "    scale3=1\n",
    "\n",
    "    rotate1=\"270,0,0\"\n",
    "    rotate2=\"270,0,0\"\n",
    "    rotate3=\"270,0,0\"\n",
    "    if shape1 in flat_shapes:\n",
    "        rotate1=\"0,0,0\"\n",
    "    if shape2 in flat_shapes:\n",
    "        rotate2=\"0,0,0\"\n",
    "    if shape3 in flat_shapes:\n",
    "        rotate3=\"0,0,0\"\n",
    "\n",
    "    if shape1 in lean_shapes:\n",
    "        rotate1=\"300,0,0\"\n",
    "    if shape2 in lean_shapes:\n",
    "        rotate2=\"300,0,0\"\n",
    "    if shape3 in lean_shapes:\n",
    "        rotate3=\"300,0,0\"\n",
    "\n",
    "    if shape1 in scales.keys():\n",
    "        scale1*=scales[shape1]\n",
    "    if shape2 in scales.keys():\n",
    "        scale2*= scales[shape2]\n",
    "    if shape3 in scales.keys():\n",
    "        scale3*= scales[shape3]\n",
    "\n",
    "    arg_scales=\"%f %f %f\" % (scale1,scale2,scale3)\n",
    "    command=f\"../blender-4.1.1-linux-x64/blender --background  --python render_objaverse.py -- --use_gpu 1  --objects %s\\\n",
    "        --robjects %s %s %s --sobjects %s --objs_config CoCo_Configs/{config_file} \\\n",
    "        --width 512 --height 512 --cam_x 0 --cam_y 0 --cam_z 12 --output_image_dir ../output/{output_folder}/\" % (arg_shapes,rotate1,rotate2,rotate3,arg_scales)\n",
    "    command=list(filter(None,command.split(\" \")))\n",
    "    new_command=command[:5]\n",
    "    new_command=\" \".join(command)\n",
    "    print(new_command)\n",
    "    subprocess.run([\"bash\",\"-c\",new_command],check=False,\n",
    "    stdout=subprocess.DEVNULL,\n",
    "    stderr=subprocess.DEVNULL\n",
    "    )\n"
   ]
  },
  {
   "cell_type": "code",
   "execution_count": 8,
   "metadata": {},
   "outputs": [
    {
     "name": "stdout",
     "output_type": "stream",
     "text": [
      "blender umberella laptop sandwich\n",
      "../blender-4.1.1-linux-x64/blender --background --python render_objaverse.py -- --use_gpu 1 --objects blender umberella laptop sandwich --robjects 270,0,0 270,0,0 300,0,0 270,0,0 --sobjects 1.000000 1.000000 1.000000 1.000000 --objs_config CoCo_Configs/FourObject.json --width 512 --height 512 --cam_x 0 --cam_y 0 --cam_z 12 --output_image_dir ../output/CoCo-FourObject-Same-Size/\n",
      "bird ski horse bicycle\n",
      "../blender-4.1.1-linux-x64/blender --background --python render_objaverse.py -- --use_gpu 1 --objects bird ski horse bicycle --robjects 270,0,0 0,0,0 270,0,0 270,0,0 --sobjects 1.400000 0.700000 1.000000 0.600000 --objs_config CoCo_Configs/FourObject.json --width 512 --height 512 --cam_x 0 --cam_y 0 --cam_z 12 --output_image_dir ../output/CoCo-FourObject-Same-Size/\n",
      "bicycle apple oven fork\n",
      "../blender-4.1.1-linux-x64/blender --background --python render_objaverse.py -- --use_gpu 1 --objects bicycle apple oven fork --robjects 270,0,0 270,0,0 270,0,0 0,0,0 --sobjects 0.600000 1.000000 1.000000 1.000000 --objs_config CoCo_Configs/FourObject.json --width 512 --height 512 --cam_x 0 --cam_y 0 --cam_z 12 --output_image_dir ../output/CoCo-FourObject-Same-Size/\n",
      "snowboard bus microwave banana\n",
      "../blender-4.1.1-linux-x64/blender --background --python render_objaverse.py -- --use_gpu 1 --objects snowboard bus microwave banana --robjects 0,0,0 270,0,0 270,0,0 0,0,0 --sobjects 1.000000 0.800000 1.000000 1.000000 --objs_config CoCo_Configs/FourObject.json --width 512 --height 512 --cam_x 0 --cam_y 0 --cam_z 12 --output_image_dir ../output/CoCo-FourObject-Same-Size/\n",
      "tie person shoe backpack\n",
      "../blender-4.1.1-linux-x64/blender --background --python render_objaverse.py -- --use_gpu 1 --objects tie person shoe backpack --robjects 270,0,0 270,0,0 270,0,0 270,0,0 --sobjects 1.000000 1.000000 1.000000 1.000000 --objs_config CoCo_Configs/FourObject.json --width 512 --height 512 --cam_x 0 --cam_y 0 --cam_z 12 --output_image_dir ../output/CoCo-FourObject-Same-Size/\n",
      "umberella mouse zebra tv\n",
      "../blender-4.1.1-linux-x64/blender --background --python render_objaverse.py -- --use_gpu 1 --objects umberella mouse zebra tv --robjects 270,0,0 0,0,0 270,0,0 270,0,0 --sobjects 1.000000 1.000000 1.000000 1.000000 --objs_config CoCo_Configs/FourObject.json --width 512 --height 512 --cam_x 0 --cam_y 0 --cam_z 12 --output_image_dir ../output/CoCo-FourObject-Same-Size/\n",
      "sheep zebra sink donut\n",
      "../blender-4.1.1-linux-x64/blender --background --python render_objaverse.py -- --use_gpu 1 --objects sheep zebra sink donut --robjects 270,0,0 270,0,0 0,0,0 0,0,0 --sobjects 1.000000 1.000000 1.000000 1.000000 --objs_config CoCo_Configs/FourObject.json --width 512 --height 512 --cam_x 0 --cam_y 0 --cam_z 12 --output_image_dir ../output/CoCo-FourObject-Same-Size/\n",
      "bench cup scissors toothbrush\n",
      "../blender-4.1.1-linux-x64/blender --background --python render_objaverse.py -- --use_gpu 1 --objects bench cup scissors toothbrush --robjects 270,0,0 300,0,0 0,0,0 270,0,0 --sobjects 0.600000 1.000000 1.400000 1.000000 --objs_config CoCo_Configs/FourObject.json --width 512 --height 512 --cam_x 0 --cam_y 0 --cam_z 12 --output_image_dir ../output/CoCo-FourObject-Same-Size/\n",
      "scissors boat tie couch\n",
      "../blender-4.1.1-linux-x64/blender --background --python render_objaverse.py -- --use_gpu 1 --objects scissors boat tie couch --robjects 0,0,0 270,0,0 270,0,0 270,0,0 --sobjects 1.400000 0.700000 1.000000 1.200000 --objs_config CoCo_Configs/FourObject.json --width 512 --height 512 --cam_x 0 --cam_y 0 --cam_z 12 --output_image_dir ../output/CoCo-FourObject-Same-Size/\n",
      "tv mirror boat door\n",
      "../blender-4.1.1-linux-x64/blender --background --python render_objaverse.py -- --use_gpu 1 --objects tv mirror boat door --robjects 270,0,0 270,0,0 270,0,0 270,0,0 --sobjects 1.000000 1.000000 0.700000 1.000000 --objs_config CoCo_Configs/FourObject.json --width 512 --height 512 --cam_x 0 --cam_y 0 --cam_z 12 --output_image_dir ../output/CoCo-FourObject-Same-Size/\n",
      "truck toaster window toilet\n",
      "../blender-4.1.1-linux-x64/blender --background --python render_objaverse.py -- --use_gpu 1 --objects truck toaster window toilet --robjects 270,0,0 270,0,0 270,0,0 0,0,0 --sobjects 0.500000 1.000000 1.000000 1.000000 --objs_config CoCo_Configs/FourObject.json --width 512 --height 512 --cam_x 0 --cam_y 0 --cam_z 12 --output_image_dir ../output/CoCo-FourObject-Same-Size/\n",
      "microwave umberella oven motor\n",
      "../blender-4.1.1-linux-x64/blender --background --python render_objaverse.py -- --use_gpu 1 --objects microwave umberella oven motor --robjects 270,0,0 270,0,0 270,0,0 270,0,0 --sobjects 1.000000 1.000000 1.000000 0.700000 --objs_config CoCo_Configs/FourObject.json --width 512 --height 512 --cam_x 0 --cam_y 0 --cam_z 12 --output_image_dir ../output/CoCo-FourObject-Same-Size/\n",
      "carrot train handbag backpack\n",
      "../blender-4.1.1-linux-x64/blender --background --python render_objaverse.py -- --use_gpu 1 --objects carrot train handbag backpack --robjects 270,0,0 270,0,0 270,0,0 270,0,0 --sobjects 1.000000 0.500000 1.000000 1.000000 --objs_config CoCo_Configs/FourObject.json --width 512 --height 512 --cam_x 0 --cam_y 0 --cam_z 12 --output_image_dir ../output/CoCo-FourObject-Same-Size/\n",
      "car zebra umberella bus\n",
      "../blender-4.1.1-linux-x64/blender --background --python render_objaverse.py -- --use_gpu 1 --objects car zebra umberella bus --robjects 270,0,0 270,0,0 270,0,0 270,0,0 --sobjects 0.700000 1.000000 1.000000 0.800000 --objs_config CoCo_Configs/FourObject.json --width 512 --height 512 --cam_x 0 --cam_y 0 --cam_z 12 --output_image_dir ../output/CoCo-FourObject-Same-Size/\n",
      "car motor truck ski\n",
      "../blender-4.1.1-linux-x64/blender --background --python render_objaverse.py -- --use_gpu 1 --objects car motor truck ski --robjects 270,0,0 270,0,0 270,0,0 0,0,0 --sobjects 0.700000 0.700000 0.500000 0.700000 --objs_config CoCo_Configs/FourObject.json --width 512 --height 512 --cam_x 0 --cam_y 0 --cam_z 12 --output_image_dir ../output/CoCo-FourObject-Same-Size/\n"
     ]
    },
    {
     "ename": "KeyboardInterrupt",
     "evalue": "",
     "output_type": "error",
     "traceback": [
      "\u001b[0;31m---------------------------------------------------------------------------\u001b[0m",
      "\u001b[0;31mKeyboardInterrupt\u001b[0m                         Traceback (most recent call last)",
      "Cell \u001b[0;32mIn[8], line 79\u001b[0m\n\u001b[1;32m     77\u001b[0m new_command\u001b[38;5;241m=\u001b[39m\u001b[38;5;124m\"\u001b[39m\u001b[38;5;124m \u001b[39m\u001b[38;5;124m\"\u001b[39m\u001b[38;5;241m.\u001b[39mjoin(command)\n\u001b[1;32m     78\u001b[0m \u001b[38;5;28mprint\u001b[39m(new_command)\n\u001b[0;32m---> 79\u001b[0m \u001b[43msubprocess\u001b[49m\u001b[38;5;241;43m.\u001b[39;49m\u001b[43mrun\u001b[49m\u001b[43m(\u001b[49m\u001b[43m[\u001b[49m\u001b[38;5;124;43m\"\u001b[39;49m\u001b[38;5;124;43mbash\u001b[39;49m\u001b[38;5;124;43m\"\u001b[39;49m\u001b[43m,\u001b[49m\u001b[38;5;124;43m\"\u001b[39;49m\u001b[38;5;124;43m-c\u001b[39;49m\u001b[38;5;124;43m\"\u001b[39;49m\u001b[43m,\u001b[49m\u001b[43mnew_command\u001b[49m\u001b[43m]\u001b[49m\u001b[43m,\u001b[49m\u001b[43mcheck\u001b[49m\u001b[38;5;241;43m=\u001b[39;49m\u001b[38;5;28;43;01mFalse\u001b[39;49;00m\u001b[43m,\u001b[49m\n\u001b[1;32m     80\u001b[0m \u001b[43m\u001b[49m\u001b[43mstdout\u001b[49m\u001b[38;5;241;43m=\u001b[39;49m\u001b[43msubprocess\u001b[49m\u001b[38;5;241;43m.\u001b[39;49m\u001b[43mDEVNULL\u001b[49m\u001b[43m,\u001b[49m\n\u001b[1;32m     81\u001b[0m \u001b[43m\u001b[49m\u001b[43mstderr\u001b[49m\u001b[38;5;241;43m=\u001b[39;49m\u001b[43msubprocess\u001b[49m\u001b[38;5;241;43m.\u001b[39;49m\u001b[43mDEVNULL\u001b[49m\n\u001b[1;32m     82\u001b[0m \u001b[43m\u001b[49m\u001b[43m)\u001b[49m\n",
      "File \u001b[0;32m/usr/lib/python3.8/subprocess.py:495\u001b[0m, in \u001b[0;36mrun\u001b[0;34m(input, capture_output, timeout, check, *popenargs, **kwargs)\u001b[0m\n\u001b[1;32m    493\u001b[0m \u001b[38;5;28;01mwith\u001b[39;00m Popen(\u001b[38;5;241m*\u001b[39mpopenargs, \u001b[38;5;241m*\u001b[39m\u001b[38;5;241m*\u001b[39mkwargs) \u001b[38;5;28;01mas\u001b[39;00m process:\n\u001b[1;32m    494\u001b[0m     \u001b[38;5;28;01mtry\u001b[39;00m:\n\u001b[0;32m--> 495\u001b[0m         stdout, stderr \u001b[38;5;241m=\u001b[39m \u001b[43mprocess\u001b[49m\u001b[38;5;241;43m.\u001b[39;49m\u001b[43mcommunicate\u001b[49m\u001b[43m(\u001b[49m\u001b[38;5;28;43minput\u001b[39;49m\u001b[43m,\u001b[49m\u001b[43m \u001b[49m\u001b[43mtimeout\u001b[49m\u001b[38;5;241;43m=\u001b[39;49m\u001b[43mtimeout\u001b[49m\u001b[43m)\u001b[49m\n\u001b[1;32m    496\u001b[0m     \u001b[38;5;28;01mexcept\u001b[39;00m TimeoutExpired \u001b[38;5;28;01mas\u001b[39;00m exc:\n\u001b[1;32m    497\u001b[0m         process\u001b[38;5;241m.\u001b[39mkill()\n",
      "File \u001b[0;32m/usr/lib/python3.8/subprocess.py:1020\u001b[0m, in \u001b[0;36mPopen.communicate\u001b[0;34m(self, input, timeout)\u001b[0m\n\u001b[1;32m   1018\u001b[0m         stderr \u001b[38;5;241m=\u001b[39m \u001b[38;5;28mself\u001b[39m\u001b[38;5;241m.\u001b[39mstderr\u001b[38;5;241m.\u001b[39mread()\n\u001b[1;32m   1019\u001b[0m         \u001b[38;5;28mself\u001b[39m\u001b[38;5;241m.\u001b[39mstderr\u001b[38;5;241m.\u001b[39mclose()\n\u001b[0;32m-> 1020\u001b[0m     \u001b[38;5;28;43mself\u001b[39;49m\u001b[38;5;241;43m.\u001b[39;49m\u001b[43mwait\u001b[49m\u001b[43m(\u001b[49m\u001b[43m)\u001b[49m\n\u001b[1;32m   1021\u001b[0m \u001b[38;5;28;01melse\u001b[39;00m:\n\u001b[1;32m   1022\u001b[0m     \u001b[38;5;28;01mif\u001b[39;00m timeout \u001b[38;5;129;01mis\u001b[39;00m \u001b[38;5;129;01mnot\u001b[39;00m \u001b[38;5;28;01mNone\u001b[39;00m:\n",
      "File \u001b[0;32m/usr/lib/python3.8/subprocess.py:1083\u001b[0m, in \u001b[0;36mPopen.wait\u001b[0;34m(self, timeout)\u001b[0m\n\u001b[1;32m   1081\u001b[0m     endtime \u001b[38;5;241m=\u001b[39m _time() \u001b[38;5;241m+\u001b[39m timeout\n\u001b[1;32m   1082\u001b[0m \u001b[38;5;28;01mtry\u001b[39;00m:\n\u001b[0;32m-> 1083\u001b[0m     \u001b[38;5;28;01mreturn\u001b[39;00m \u001b[38;5;28;43mself\u001b[39;49m\u001b[38;5;241;43m.\u001b[39;49m\u001b[43m_wait\u001b[49m\u001b[43m(\u001b[49m\u001b[43mtimeout\u001b[49m\u001b[38;5;241;43m=\u001b[39;49m\u001b[43mtimeout\u001b[49m\u001b[43m)\u001b[49m\n\u001b[1;32m   1084\u001b[0m \u001b[38;5;28;01mexcept\u001b[39;00m \u001b[38;5;167;01mKeyboardInterrupt\u001b[39;00m:\n\u001b[1;32m   1085\u001b[0m     \u001b[38;5;66;03m# https://bugs.python.org/issue25942\u001b[39;00m\n\u001b[1;32m   1086\u001b[0m     \u001b[38;5;66;03m# The first keyboard interrupt waits briefly for the child to\u001b[39;00m\n\u001b[1;32m   1087\u001b[0m     \u001b[38;5;66;03m# exit under the common assumption that it also received the ^C\u001b[39;00m\n\u001b[1;32m   1088\u001b[0m     \u001b[38;5;66;03m# generated SIGINT and will exit rapidly.\u001b[39;00m\n\u001b[1;32m   1089\u001b[0m     \u001b[38;5;28;01mif\u001b[39;00m timeout \u001b[38;5;129;01mis\u001b[39;00m \u001b[38;5;129;01mnot\u001b[39;00m \u001b[38;5;28;01mNone\u001b[39;00m:\n",
      "File \u001b[0;32m/usr/lib/python3.8/subprocess.py:1806\u001b[0m, in \u001b[0;36mPopen._wait\u001b[0;34m(self, timeout)\u001b[0m\n\u001b[1;32m   1804\u001b[0m \u001b[38;5;28;01mif\u001b[39;00m \u001b[38;5;28mself\u001b[39m\u001b[38;5;241m.\u001b[39mreturncode \u001b[38;5;129;01mis\u001b[39;00m \u001b[38;5;129;01mnot\u001b[39;00m \u001b[38;5;28;01mNone\u001b[39;00m:\n\u001b[1;32m   1805\u001b[0m     \u001b[38;5;28;01mbreak\u001b[39;00m  \u001b[38;5;66;03m# Another thread waited.\u001b[39;00m\n\u001b[0;32m-> 1806\u001b[0m (pid, sts) \u001b[38;5;241m=\u001b[39m \u001b[38;5;28;43mself\u001b[39;49m\u001b[38;5;241;43m.\u001b[39;49m\u001b[43m_try_wait\u001b[49m\u001b[43m(\u001b[49m\u001b[38;5;241;43m0\u001b[39;49m\u001b[43m)\u001b[49m\n\u001b[1;32m   1807\u001b[0m \u001b[38;5;66;03m# Check the pid and loop as waitpid has been known to\u001b[39;00m\n\u001b[1;32m   1808\u001b[0m \u001b[38;5;66;03m# return 0 even without WNOHANG in odd situations.\u001b[39;00m\n\u001b[1;32m   1809\u001b[0m \u001b[38;5;66;03m# http://bugs.python.org/issue14396.\u001b[39;00m\n\u001b[1;32m   1810\u001b[0m \u001b[38;5;28;01mif\u001b[39;00m pid \u001b[38;5;241m==\u001b[39m \u001b[38;5;28mself\u001b[39m\u001b[38;5;241m.\u001b[39mpid:\n",
      "File \u001b[0;32m/usr/lib/python3.8/subprocess.py:1764\u001b[0m, in \u001b[0;36mPopen._try_wait\u001b[0;34m(self, wait_flags)\u001b[0m\n\u001b[1;32m   1762\u001b[0m \u001b[38;5;250m\u001b[39m\u001b[38;5;124;03m\"\"\"All callers to this function MUST hold self._waitpid_lock.\"\"\"\u001b[39;00m\n\u001b[1;32m   1763\u001b[0m \u001b[38;5;28;01mtry\u001b[39;00m:\n\u001b[0;32m-> 1764\u001b[0m     (pid, sts) \u001b[38;5;241m=\u001b[39m \u001b[43mos\u001b[49m\u001b[38;5;241;43m.\u001b[39;49m\u001b[43mwaitpid\u001b[49m\u001b[43m(\u001b[49m\u001b[38;5;28;43mself\u001b[39;49m\u001b[38;5;241;43m.\u001b[39;49m\u001b[43mpid\u001b[49m\u001b[43m,\u001b[49m\u001b[43m \u001b[49m\u001b[43mwait_flags\u001b[49m\u001b[43m)\u001b[49m\n\u001b[1;32m   1765\u001b[0m \u001b[38;5;28;01mexcept\u001b[39;00m \u001b[38;5;167;01mChildProcessError\u001b[39;00m:\n\u001b[1;32m   1766\u001b[0m     \u001b[38;5;66;03m# This happens if SIGCLD is set to be ignored or waiting\u001b[39;00m\n\u001b[1;32m   1767\u001b[0m     \u001b[38;5;66;03m# for child processes has otherwise been disabled for our\u001b[39;00m\n\u001b[1;32m   1768\u001b[0m     \u001b[38;5;66;03m# process.  This child is dead, we can't get the status.\u001b[39;00m\n\u001b[1;32m   1769\u001b[0m     pid \u001b[38;5;241m=\u001b[39m \u001b[38;5;28mself\u001b[39m\u001b[38;5;241m.\u001b[39mpid\n",
      "\u001b[0;31mKeyboardInterrupt\u001b[0m: "
     ]
    }
   ],
   "source": [
    "#4 object\n",
    "import pandas as pd\n",
    "import subprocess\n",
    "import json\n",
    "import random\n",
    "random.seed(42)\n",
    "object_name_file=\"CoCo-4Object-Names.csv\"\n",
    "remainder_name_file=\"CoCo-4Object-Names-remainder.csv\"\n",
    "\n",
    "df=pd.read_csv(object_name_file)\n",
    "\n",
    "idx_list=random.sample(range(len(df)),8000)\n",
    "\n",
    "shape_names=df.iloc[idx_list][\"ObjectNames\"]\n",
    "df.drop(idx_list).to_csv(remainder_name_file,index=False)\n",
    "with open(\"CoCo_Configs/properties.json\", 'r') as f:\n",
    "    properties = json.load(f)\n",
    "with open(\"CoCo_Configs/Scales.json\") as f:\n",
    "    scales=json.load(f)\n",
    "shapes=list(properties[\"shapes\"].keys())\n",
    "shapes=[\"cup\",\"clock\",\"banana\"]\n",
    "flat_shapes=[\"axe\",\"banana\",\"bed\",\"clock\",\"donut\",\"fork\",\"keyboard\",\n",
    "\"knife\",\"sink\",\"mouse\",\"skateboard\",\"remote\",\"scissors\",\n",
    "\"pizza\",\"plate\",\"toilet\",\"spoon\",\"ski\",\"snowboard\"]\n",
    "lean_shapes=[\"cup\",\"hat\",\"laptop\",\"suitcase\"]\n",
    "\n",
    "config_file=\"FourObject.json\"\n",
    "output_folder=\"CoCo-FourObject-Same-Size\"\n",
    "\n",
    "for line in shape_names:\n",
    "    print(line.split(\"\\n\")[0])\n",
    "    shape1,shape2,shape3,shape4=line.split(\"\\n\")[0].split(\" \")\n",
    "    arg_shapes=shape1+\" \"+shape2+\" \"+shape3+\" \"+shape4\n",
    "    scale1=1\n",
    "    scale2=1\n",
    "    scale3=1\n",
    "    scale4=1\n",
    "\n",
    "    rotate1=\"270,0,0\"\n",
    "    rotate2=\"270,0,0\"\n",
    "    rotate3=\"270,0,0\"\n",
    "    rotate4=\"270,0,0\"\n",
    "\n",
    "    if shape1 in flat_shapes:\n",
    "        rotate1=\"0,0,0\"\n",
    "    if shape2 in flat_shapes:\n",
    "        rotate2=\"0,0,0\"\n",
    "    if shape3 in flat_shapes:\n",
    "        rotate3=\"0,0,0\"\n",
    "    if shape4 in flat_shapes:\n",
    "        rotate4=\"0,0,0\"\n",
    "\n",
    "    if shape1 in lean_shapes:\n",
    "        rotate1=\"300,0,0\"\n",
    "    if shape2 in lean_shapes:\n",
    "        rotate2=\"300,0,0\"\n",
    "    if shape3 in lean_shapes:\n",
    "        rotate3=\"300,0,0\"\n",
    "    if shape4 in lean_shapes:\n",
    "        rotate4=\"300,0,0\"\n",
    "\n",
    "    if shape1 in scales.keys():\n",
    "        scale1*=scales[shape1]\n",
    "    if shape2 in scales.keys():\n",
    "        scale2*= scales[shape2]\n",
    "    if shape3 in scales.keys():\n",
    "        scale3*= scales[shape3]\n",
    "    if shape4 in scales.keys():\n",
    "        scale4*= scales[shape4]\n",
    "\n",
    "    arg_scales=\"%f %f %f %f\" % (scale1,scale2,scale3,scale4)\n",
    "    command=f\"../blender-4.1.1-linux-x64/blender --background  --python render_objaverse.py -- --use_gpu 1  --objects %s\\\n",
    "        --robjects %s %s %s %s --sobjects %s --objs_config CoCo_Configs/{config_file} \\\n",
    "        --width 512 --height 512 --cam_x 0 --cam_y 0 --cam_z 12 --output_image_dir ../output/{output_folder}/\" % (arg_shapes,rotate1,rotate2,rotate3,rotate4,arg_scales)\n",
    "    command=list(filter(None,command.split(\" \")))\n",
    "    new_command=command[:5]\n",
    "    new_command=\" \".join(command)\n",
    "    print(new_command)\n",
    "    subprocess.run([\"bash\",\"-c\",new_command],check=False,\n",
    "    stdout=subprocess.DEVNULL,\n",
    "    stderr=subprocess.DEVNULL\n",
    "    )\n"
   ]
  },
  {
   "cell_type": "code",
   "execution_count": 2,
   "metadata": {},
   "outputs": [
    {
     "name": "stdout",
     "output_type": "stream",
     "text": [
      "[Errno 2] No such file or directory: 'image_generation/'\n",
      "/home/amin/clevr-custom/image_generation\n"
     ]
    },
    {
     "name": "stderr",
     "output_type": "stream",
     "text": [
      "100%|██████████| 71/71 [00:06<00:00, 11.05it/s]\n",
      "100%|██████████| 71/71 [00:06<00:00, 11.29it/s]\n",
      "100%|██████████| 71/71 [00:06<00:00, 11.36it/s]\n",
      "100%|██████████| 71/71 [00:06<00:00, 10.92it/s]\n",
      "100%|██████████| 71/71 [00:06<00:00, 11.43it/s]\n",
      "100%|██████████| 71/71 [00:06<00:00, 11.06it/s]\n",
      "100%|██████████| 71/71 [00:06<00:00, 11.18it/s]\n",
      "100%|██████████| 71/71 [00:06<00:00, 11.22it/s]\n",
      "100%|██████████| 71/71 [00:06<00:00, 11.36it/s]\n",
      "100%|██████████| 71/71 [00:06<00:00, 11.30it/s]\n",
      "100%|██████████| 71/71 [00:06<00:00, 10.76it/s]\n",
      "100%|██████████| 71/71 [00:06<00:00, 11.24it/s]\n",
      "100%|██████████| 71/71 [00:06<00:00, 11.25it/s]\n",
      "100%|██████████| 71/71 [00:06<00:00, 11.36it/s]\n",
      "100%|██████████| 71/71 [00:06<00:00, 11.39it/s]\n",
      "100%|██████████| 71/71 [00:06<00:00, 11.03it/s]\n",
      "100%|██████████| 71/71 [00:06<00:00, 10.77it/s]\n",
      "100%|██████████| 71/71 [00:06<00:00, 11.17it/s]\n",
      "100%|██████████| 71/71 [00:06<00:00, 11.14it/s]\n",
      "100%|██████████| 71/71 [00:06<00:00, 11.11it/s]\n",
      "100%|██████████| 71/71 [00:06<00:00, 10.83it/s]\n",
      "100%|██████████| 71/71 [00:06<00:00, 11.25it/s]\n",
      "100%|██████████| 71/71 [00:06<00:00, 11.11it/s]\n",
      "100%|██████████| 71/71 [00:07<00:00, 10.12it/s]\n",
      "100%|██████████| 71/71 [00:07<00:00,  9.90it/s]\n",
      "100%|██████████| 71/71 [00:06<00:00, 11.06it/s]\n",
      "100%|██████████| 71/71 [00:07<00:00, 10.07it/s]\n",
      "100%|██████████| 71/71 [00:07<00:00,  9.88it/s]\n",
      "100%|██████████| 71/71 [00:07<00:00,  9.48it/s]\n",
      "100%|██████████| 71/71 [00:07<00:00,  9.12it/s]\n",
      "100%|██████████| 71/71 [00:07<00:00,  9.46it/s]\n",
      "100%|██████████| 71/71 [00:07<00:00,  9.56it/s]\n",
      "100%|██████████| 71/71 [00:08<00:00,  8.55it/s]\n",
      "100%|██████████| 71/71 [00:07<00:00,  9.78it/s]\n",
      "100%|██████████| 71/71 [00:07<00:00,  9.65it/s]\n",
      "100%|██████████| 71/71 [00:07<00:00,  9.18it/s]\n",
      "100%|██████████| 71/71 [00:07<00:00,  9.02it/s]\n",
      "100%|██████████| 71/71 [00:08<00:00,  8.73it/s]\n",
      "100%|██████████| 71/71 [00:07<00:00,  8.93it/s]\n",
      "100%|██████████| 71/71 [00:07<00:00,  9.92it/s]\n",
      "100%|██████████| 71/71 [00:06<00:00, 10.37it/s]\n",
      "100%|██████████| 71/71 [00:07<00:00, 10.07it/s]\n",
      "100%|██████████| 71/71 [00:07<00:00,  9.71it/s]\n",
      "100%|██████████| 71/71 [00:07<00:00, 10.11it/s]\n",
      " 62%|██████▏   | 44/71 [05:01<03:14,  7.22s/it]"
     ]
    }
   ],
   "source": [
    "#5 object names generator\n",
    "%cd image_generation/\n",
    "import pandas as pd\n",
    "import subprocess\n",
    "import json\n",
    "import random\n",
    "random.seed(42)\n",
    "object_name_file=\"CoCo-4Object-Names.csv\"\n",
    "\n",
    "\n",
    "\n",
    "with open(\"CoCo_Configs/properties.json\", 'r') as f:\n",
    "    properties = json.load(f)\n",
    "with open(\"CoCo_Configs/Scales.json\") as f:\n",
    "    scales=json.load(f)\n",
    "shape_names=list(properties[\"shapes\"].keys())\n",
    "flat_shapes=[\"axe\",\"banana\",\"bed\",\"clock\",\"donut\",\"fork\",\"keyboard\",\n",
    "\"knife\",\"sink\",\"mouse\",\"skateboard\",\"remote\",\"scissors\",\n",
    "\"pizza\",\"plate\",\"toilet\",\"spoon\",\"ski\",\"snowboard\"]\n",
    "lean_shapes=[\"cup\",\"hat\",\"laptop\",\"suitcase\"]\n",
    "\n",
    "config_file=\"FourObject.json\"\n",
    "output_folder=\"CoCo-FourObject-Same-Size\"\n",
    "from tqdm import tqdm\n",
    "shape_names_list=[]\n",
    "for shape1 in tqdm(shape_names):\n",
    "    for shape2 in tqdm(shape_names):\n",
    "        if shape1==shape2:\n",
    "            continue\n",
    "        for shape3 in shape_names:\n",
    "            if shape2==shape3:\n",
    "                continue\n",
    "            for shape4 in shape_names:\n",
    "                if shape4==shape3:\n",
    "                    continue\n",
    "                for shape5 in shape_names:\n",
    "                    if shape4==shape5:\n",
    "                        continue\n",
    "                    shape_names_list.append(f\"{shape1} {shape2} {shape3} {shape4} {shape4} {shape5}\")"
   ]
  },
  {
   "cell_type": "code",
   "execution_count": null,
   "metadata": {},
   "outputs": [],
   "source": []
  }
 ],
 "metadata": {
  "kernelspec": {
   "display_name": "Python 3",
   "language": "python",
   "name": "python3"
  },
  "language_info": {
   "codemirror_mode": {
    "name": "ipython",
    "version": 3
   },
   "file_extension": ".py",
   "mimetype": "text/x-python",
   "name": "python",
   "nbconvert_exporter": "python",
   "pygments_lexer": "ipython3",
   "version": "3.8.10"
  }
 },
 "nbformat": 4,
 "nbformat_minor": 2
}
