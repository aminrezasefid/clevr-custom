{
 "cells": [
  {
   "cell_type": "code",
   "execution_count": 2,
   "metadata": {},
   "outputs": [
    {
     "name": "stdout",
     "output_type": "stream",
     "text": [
      "--2024-06-23 10:59:04--  https://mirror.clarkson.edu/blender/release/Blender4.1/blender-4.1.1-linux-x64.tar.xz\n",
      "Resolving mirror.clarkson.edu (mirror.clarkson.edu)... 128.153.145.19, 2605:6480:c051:100::1\n",
      "Connecting to mirror.clarkson.edu (mirror.clarkson.edu)|128.153.145.19|:443... connected.\n",
      "HTTP request sent, awaiting response... 200 OK\n",
      "Length: 297954552 (284M) [application/octet-stream]\n",
      "Saving to: ‘blender-4.1.1-linux-x64.tar.xz’\n",
      "\n",
      "blender-4.1.1-linux 100%[===================>] 284.15M  1.00MB/s    in 6m 12s  \n",
      "\n",
      "2024-06-23 11:05:17 (783 KB/s) - ‘blender-4.1.1-linux-x64.tar.xz’ saved [297954552/297954552]\n",
      "\n"
     ]
    }
   ],
   "source": [
    "!wget https://mirror.clarkson.edu/blender/release/Blender4.1/blender-4.1.1-linux-x64.tar.xz && \\\n",
    "  tar -xf blender-4.1.1-linux-x64.tar.xz && \\\n",
    "  rm blender-4.1.1-linux-x64.tar.xz"
   ]
  },
  {
   "cell_type": "code",
   "execution_count": 3,
   "metadata": {},
   "outputs": [],
   "source": [
    "!echo $PWD/image_generation >> blender-4.1.1-linux-x64/4.1/python/lib/python3.11/site-packages/clevr.pth"
   ]
  },
  {
   "cell_type": "code",
   "execution_count": 2,
   "metadata": {},
   "outputs": [
    {
     "name": "stdout",
     "output_type": "stream",
     "text": [
      "/home/amin/clevr-custom/image_generation\n"
     ]
    }
   ],
   "source": [
    "%cd image_generation"
   ]
  },
  {
   "cell_type": "code",
   "execution_count": 9,
   "metadata": {},
   "outputs": [
    {
     "name": "stdout",
     "output_type": "stream",
     "text": [
      "Blender 4.1.1 (hash e1743a0317bc built 2024-04-15 23:47:45)\n",
      "Namespace(base_scene_blendfile='data/base_scene.blend', properties_json='objaverse_data/properties.json', shape_dir='objaverse_data/', objects=['circle'], sobjects=[0], robjects=[(0, 0, 0)], locobjects=[(0, 0)], objs_config='objaverse_data/config.json', output_image_dir='../output/images/', version='1.0', license='Creative Commons Attribution (CC-BY 4.0)', date='06/24/2024', cam_x=0.0, cam_y=-7.0, cam_z=10, use_gpu=1, width=1024, height=1024, render_num_samples=512, render_min_bounces=8, render_max_bounces=8, render_tile_size=256)\n",
      "Namespace(base_scene_blendfile='data/base_scene.blend', properties_json='objaverse_data/properties.json', shape_dir='objaverse_data/', objects=['snowboard'], sobjects=[1], robjects=[[0, 0, 0]], locobjects=[[1, 1]], objs_config='objaverse_data/config.json', output_image_dir='../output/images/', version='1.0', license='Creative Commons Attribution (CC-BY 4.0)', date='06/24/2024', cam_x=0.0, cam_y=-7.0, cam_z=10, use_gpu=1, width=1024, height=1024, render_num_samples=512, render_min_bounces=8, render_max_bounces=8, render_tile_size=256)\n",
      "Read blend: \"/home/amin/clevr-custom/image_generation/data/base_scene.blend\"\n",
      "Warning: region type 4 missing in space type \"Info\" (id: 7) - removing region\n",
      "objaverse_data/Snowboard.blend\n",
      "Fra:1 Mem:13.92M (Peak 13.92M) | Time:00:00.27 | Mem:0.00M, Peak:0.00M | Scene, RenderLayer | Synchronizing object | Ground\n",
      "Fra:1 Mem:13.94M (Peak 13.94M) | Time:00:00.27 | Mem:0.00M, Peak:0.00M | Scene, RenderLayer | Synchronizing object | Snowboard_0\n",
      "Fra:1 Mem:18.69M (Peak 19.16M) | Time:00:00.27 | Mem:0.00M, Peak:0.00M | Scene, RenderLayer | Initializing\n",
      "Fra:1 Mem:18.15M (Peak 19.16M) | Time:00:00.27 | Mem:0.00M, Peak:0.00M | Scene, RenderLayer | Waiting for render to start\n",
      "Fra:1 Mem:18.15M (Peak 19.16M) | Time:00:00.27 | Mem:0.00M, Peak:0.00M | Scene, RenderLayer | Loading render kernels (may take a few minutes the first time)\n",
      "Fra:1 Mem:18.15M (Peak 39.54M) | Time:00:00.33 | Mem:0.00M, Peak:0.00M | Scene, RenderLayer | Updating Scene\n",
      "Fra:1 Mem:18.15M (Peak 39.54M) | Time:00:00.33 | Mem:0.00M, Peak:0.00M | Scene, RenderLayer | Updating Shaders\n",
      "Fra:1 Mem:18.25M (Peak 39.54M) | Time:00:00.33 | Mem:0.02M, Peak:0.02M | Scene, RenderLayer | Updating Procedurals\n",
      "Fra:1 Mem:18.25M (Peak 39.54M) | Time:00:00.33 | Mem:0.02M, Peak:0.02M | Scene, RenderLayer | Updating Background\n",
      "Fra:1 Mem:18.25M (Peak 39.54M) | Time:00:00.33 | Mem:0.02M, Peak:0.02M | Scene, RenderLayer | Updating Camera\n",
      "Fra:1 Mem:18.25M (Peak 39.54M) | Time:00:00.33 | Mem:0.02M, Peak:0.02M | Scene, RenderLayer | Updating Meshes Flags\n",
      "Fra:1 Mem:18.25M (Peak 39.54M) | Time:00:00.33 | Mem:0.02M, Peak:0.02M | Scene, RenderLayer | Updating Objects\n",
      "Fra:1 Mem:18.25M (Peak 39.54M) | Time:00:00.33 | Mem:0.02M, Peak:0.02M | Scene, RenderLayer | Updating Objects | Copying Transformations to device\n",
      "Fra:1 Mem:18.25M (Peak 39.54M) | Time:00:00.33 | Mem:0.02M, Peak:0.02M | Scene, RenderLayer | Updating Objects | Applying Static Transformations\n",
      "Fra:1 Mem:18.25M (Peak 39.54M) | Time:00:00.33 | Mem:0.02M, Peak:0.02M | Scene, RenderLayer | Updating Particle Systems\n",
      "Fra:1 Mem:18.25M (Peak 39.54M) | Time:00:00.33 | Mem:0.02M, Peak:0.02M | Scene, RenderLayer | Updating Particle Systems | Copying Particles to device\n",
      "Fra:1 Mem:18.25M (Peak 39.54M) | Time:00:00.33 | Mem:0.02M, Peak:0.02M | Scene, RenderLayer | Updating Meshes\n",
      "Fra:1 Mem:19.21M (Peak 39.54M) | Time:00:00.33 | Mem:0.02M, Peak:0.02M | Scene, RenderLayer | Updating Mesh | Computing attributes\n",
      "Fra:1 Mem:19.57M (Peak 39.54M) | Time:00:00.33 | Mem:0.02M, Peak:0.02M | Scene, RenderLayer | Updating Mesh | Copying Attributes to device\n",
      "Fra:1 Mem:19.57M (Peak 39.54M) | Time:00:00.33 | Mem:0.38M, Peak:0.38M | Scene, RenderLayer | Updating Scene BVH | Building\n",
      "Fra:1 Mem:19.57M (Peak 39.54M) | Time:00:00.33 | Mem:0.38M, Peak:0.38M | Scene, RenderLayer | Updating Scene BVH | Building BVH\n",
      "Fra:1 Mem:23.15M (Peak 39.54M) | Time:00:00.35 | Mem:0.38M, Peak:0.38M | Scene, RenderLayer | Updating Scene BVH | Packing BVH triangles and strands\n",
      "Fra:1 Mem:23.39M (Peak 39.54M) | Time:00:00.35 | Mem:0.38M, Peak:0.38M | Scene, RenderLayer | Updating Scene BVH | Packing BVH nodes\n",
      "Fra:1 Mem:23.28M (Peak 39.54M) | Time:00:00.35 | Mem:0.38M, Peak:0.38M | Scene, RenderLayer | Updating Scene BVH | Copying BVH to device\n",
      "Fra:1 Mem:23.28M (Peak 39.54M) | Time:00:00.35 | Mem:2.23M, Peak:2.23M | Scene, RenderLayer | Updating Mesh | Computing normals\n",
      "Fra:1 Mem:25.46M (Peak 39.54M) | Time:00:00.35 | Mem:2.23M, Peak:2.23M | Scene, RenderLayer | Updating Mesh | Copying Mesh to device\n",
      "Fra:1 Mem:25.46M (Peak 39.54M) | Time:00:00.36 | Mem:4.42M, Peak:4.42M | Scene, RenderLayer | Updating Objects Flags\n",
      "Fra:1 Mem:25.46M (Peak 39.54M) | Time:00:00.36 | Mem:4.42M, Peak:4.42M | Scene, RenderLayer | Updating Primitive Offsets\n",
      "Fra:1 Mem:25.46M (Peak 39.54M) | Time:00:00.36 | Mem:4.42M, Peak:4.42M | Scene, RenderLayer | Updating Images\n",
      "Fra:1 Mem:25.46M (Peak 39.54M) | Time:00:00.36 | Mem:4.42M, Peak:4.42M | Scene, RenderLayer | Updating Camera Volume\n",
      "Fra:1 Mem:25.46M (Peak 39.54M) | Time:00:00.36 | Mem:4.42M, Peak:4.42M | Scene, RenderLayer | Updating Lookup Tables\n",
      "Fra:1 Mem:25.46M (Peak 39.54M) | Time:00:00.36 | Mem:4.50M, Peak:4.50M | Scene, RenderLayer | Updating Lights\n",
      "Fra:1 Mem:25.46M (Peak 39.54M) | Time:00:00.36 | Mem:4.50M, Peak:4.50M | Scene, RenderLayer | Updating Lights | Computing distribution\n",
      "Fra:1 Mem:25.46M (Peak 39.54M) | Time:00:00.36 | Mem:4.50M, Peak:4.50M | Scene, RenderLayer | Updating Integrator\n",
      "Fra:1 Mem:27.46M (Peak 39.54M) | Time:00:00.36 | Mem:6.50M, Peak:6.50M | Scene, RenderLayer | Updating Film\n",
      "Fra:1 Mem:27.46M (Peak 39.54M) | Time:00:00.36 | Mem:6.42M, Peak:6.50M | Scene, RenderLayer | Updating Lookup Tables\n",
      "Fra:1 Mem:27.46M (Peak 39.54M) | Time:00:00.36 | Mem:6.50M, Peak:6.50M | Scene, RenderLayer | Updating Baking\n",
      "Fra:1 Mem:27.46M (Peak 39.54M) | Time:00:00.36 | Mem:6.50M, Peak:6.50M | Scene, RenderLayer | Updating Device | Writing constant memory\n",
      "Fra:1 Mem:39.16M (Peak 39.54M) | Time:00:00.37 | Mem:6.50M, Peak:6.50M | Scene, RenderLayer | Sample 0/512\n",
      "Fra:1 Mem:59.16M (Peak 59.16M) | Time:00:00.38 | Remaining:00:08.32 | Mem:6.50M, Peak:6.50M | Scene, RenderLayer | Sample 1/512\n",
      "Fra:1 Mem:59.17M (Peak 79.16M) | Time:00:00.52 | Remaining:00:06.28 | Mem:6.50M, Peak:26.50M | Scene, RenderLayer | Sample 12/512\n",
      "Fra:1 Mem:59.17M (Peak 79.17M) | Time:00:00.75 | Remaining:00:05.11 | Mem:6.50M, Peak:26.50M | Scene, RenderLayer | Sample 36/512\n",
      "Fra:1 Mem:59.18M (Peak 79.17M) | Time:00:01.09 | Remaining:00:04.20 | Mem:6.50M, Peak:26.50M | Scene, RenderLayer | Sample 75/512\n",
      "Fra:1 Mem:59.18M (Peak 79.18M) | Time:00:01.52 | Remaining:00:03.39 | Mem:6.50M, Peak:26.50M | Scene, RenderLayer | Sample 130/512\n",
      "Fra:1 Mem:59.18M (Peak 79.18M) | Time:00:01.94 | Remaining:00:02.77 | Mem:6.50M, Peak:26.50M | Scene, RenderLayer | Sample 185/512\n",
      "Fra:1 Mem:59.18M (Peak 79.18M) | Time:00:02.34 | Remaining:00:02.24 | Mem:6.50M, Peak:26.50M | Scene, RenderLayer | Sample 240/512\n",
      "Fra:1 Mem:79.22M (Peak 115.22M) | Time:00:04.35 | Mem:6.50M, Peak:26.50M | Scene, RenderLayer | Sample 512/512\n",
      "Fra:1 Mem:79.22M (Peak 115.22M) | Time:00:04.35 | Mem:6.50M, Peak:26.50M | Scene, RenderLayer | Finished\n",
      "Saved: '../output/images/snowboard.png'\n",
      "Time: 00:04.63 (Saving: 00:00.09)\n",
      "\n",
      "\n",
      "Blender quit\n"
     ]
    }
   ],
   "source": [
    "!../blender-4.1.1-linux-x64/blender --background --python render_objaverse.py --  --use_gpu 1 --objs_config objaverse_data/config.json --width 1024 --height 1024 \n"
   ]
  },
  {
   "cell_type": "code",
   "execution_count": null,
   "metadata": {},
   "outputs": [],
   "source": []
  }
 ],
 "metadata": {
  "kernelspec": {
   "display_name": "Python 3",
   "language": "python",
   "name": "python3"
  },
  "language_info": {
   "codemirror_mode": {
    "name": "ipython",
    "version": 3
   },
   "file_extension": ".py",
   "mimetype": "text/x-python",
   "name": "python",
   "nbconvert_exporter": "python",
   "pygments_lexer": "ipython3",
   "version": "3.8.10"
  }
 },
 "nbformat": 4,
 "nbformat_minor": 2
}
