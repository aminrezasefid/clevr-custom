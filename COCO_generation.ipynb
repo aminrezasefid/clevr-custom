{
 "cells": [
  {
   "cell_type": "code",
   "execution_count": 2,
   "metadata": {},
   "outputs": [
    {
     "name": "stdout",
     "output_type": "stream",
     "text": [
      "--2024-06-23 10:59:04--  https://mirror.clarkson.edu/blender/release/Blender4.1/blender-4.1.1-linux-x64.tar.xz\n",
      "Resolving mirror.clarkson.edu (mirror.clarkson.edu)... 128.153.145.19, 2605:6480:c051:100::1\n",
      "Connecting to mirror.clarkson.edu (mirror.clarkson.edu)|128.153.145.19|:443... connected.\n",
      "HTTP request sent, awaiting response... 200 OK\n",
      "Length: 297954552 (284M) [application/octet-stream]\n",
      "Saving to: ‘blender-4.1.1-linux-x64.tar.xz’\n",
      "\n",
      "blender-4.1.1-linux 100%[===================>] 284.15M  1.00MB/s    in 6m 12s  \n",
      "\n",
      "2024-06-23 11:05:17 (783 KB/s) - ‘blender-4.1.1-linux-x64.tar.xz’ saved [297954552/297954552]\n",
      "\n"
     ]
    }
   ],
   "source": [
    "!wget https://mirror.clarkson.edu/blender/release/Blender4.1/blender-4.1.1-linux-x64.tar.xz && \\\n",
    "  tar -xf blender-4.1.1-linux-x64.tar.xz && \\\n",
    "  rm blender-4.1.1-linux-x64.tar.xz"
   ]
  },
  {
   "cell_type": "code",
   "execution_count": 3,
   "metadata": {},
   "outputs": [
    {
     "name": "stdout",
     "output_type": "stream",
     "text": [
      "\u001b[31mERROR: Could not find a version that satisfies the requirement sckit-learn (from versions: none)\u001b[0m\n",
      "\u001b[31mERROR: No matching distribution found for sckit-learn\u001b[0m\n"
     ]
    }
   ],
   "source": [
    "!pip install sckit-learn"
   ]
  },
  {
   "cell_type": "code",
   "execution_count": 3,
   "metadata": {},
   "outputs": [],
   "source": [
    "!echo $PWD/image_generation >> blender-4.1.1-linux-x64/4.1/python/lib/python3.11/site-packages/clevr.pth"
   ]
  },
  {
   "cell_type": "code",
   "execution_count": 1,
   "metadata": {},
   "outputs": [
    {
     "name": "stdout",
     "output_type": "stream",
     "text": [
      "/home/amin/clevr-custom/image_generation\n"
     ]
    }
   ],
   "source": [
    "%cd image_generation"
   ]
  },
  {
   "cell_type": "code",
   "execution_count": 30,
   "metadata": {},
   "outputs": [
    {
     "name": "stdout",
     "output_type": "stream",
     "text": [
      "Blender 4.1.1 (hash e1743a0317bc built 2024-04-15 23:47:45)\n",
      "Namespace(base_scene_blendfile='data/base_scene.blend', properties_json='objaverse_data/properties.json', shape_dir='objaverse_data/', objects=['circle'], sobjects=[0], robjects=[(0, 0, 0)], locobjects=[(0, 0)], objs_config='objaverse_data/config.json', output_image_dir='../output/images/', version='1.0', license='Creative Commons Attribution (CC-BY 4.0)', date='06/29/2024', cam_x=0.0, cam_y=-7.0, cam_z=10, use_gpu=1, width=1024, height=1024, render_num_samples=512, render_min_bounces=8, render_max_bounces=8, render_tile_size=256)\n",
      "Namespace(base_scene_blendfile='data/base_scene.blend', properties_json='objaverse_data/properties.json', shape_dir='objaverse_data/', objects=['toothbrush'], sobjects=[1.3], robjects=[[0, 0, 0]], locobjects=[[1, 1]], objs_config='objaverse_data/config.json', output_image_dir='../output/images/', version='1.0', license='Creative Commons Attribution (CC-BY 4.0)', date='06/29/2024', cam_x=0.0, cam_y=-7.0, cam_z=10, use_gpu=1, width=1024, height=1024, render_num_samples=512, render_min_bounces=8, render_max_bounces=8, render_tile_size=256)\n",
      "Read blend: \"/home/amin/clevr-custom/image_generation/data/base_scene.blend\"\n",
      "Warning: region type 4 missing in space type \"Info\" (id: 7) - removing region\n",
      "objaverse_data/Toothbrush.blend\n",
      "Fra:1 Mem:19.08M (Peak 19.08M) | Time:00:00.45 | Mem:0.00M, Peak:0.00M | Scene, RenderLayer | Synchronizing object | Ground\n",
      "Fra:1 Mem:19.19M (Peak 19.19M) | Time:00:00.45 | Mem:0.00M, Peak:0.00M | Scene, RenderLayer | Synchronizing object | Plane\n",
      "Fra:1 Mem:27.92M (Peak 39.12M) | Time:00:00.47 | Mem:0.00M, Peak:0.00M | Scene, RenderLayer | Initializing\n",
      "Fra:1 Mem:27.28M (Peak 39.12M) | Time:00:00.47 | Mem:0.00M, Peak:0.00M | Scene, RenderLayer | Waiting for render to start\n",
      "Fra:1 Mem:27.28M (Peak 39.12M) | Time:00:00.47 | Mem:0.00M, Peak:0.00M | Scene, RenderLayer | Loading render kernels (may take a few minutes the first time)\n",
      "Fra:1 Mem:27.28M (Peak 48.67M) | Time:00:00.56 | Mem:0.00M, Peak:0.00M | Scene, RenderLayer | Updating Scene\n",
      "Fra:1 Mem:27.28M (Peak 48.67M) | Time:00:00.56 | Mem:0.00M, Peak:0.00M | Scene, RenderLayer | Updating Shaders\n",
      "Fra:1 Mem:27.37M (Peak 48.67M) | Time:00:00.57 | Mem:0.00M, Peak:0.00M | Scene, RenderLayer | Updating Procedurals\n",
      "Fra:1 Mem:27.37M (Peak 48.67M) | Time:00:00.57 | Mem:0.00M, Peak:0.00M | Scene, RenderLayer | Updating Background\n",
      "Fra:1 Mem:27.37M (Peak 48.67M) | Time:00:00.57 | Mem:0.00M, Peak:0.00M | Scene, RenderLayer | Updating Camera\n",
      "Fra:1 Mem:27.37M (Peak 48.67M) | Time:00:00.57 | Mem:0.00M, Peak:0.00M | Scene, RenderLayer | Updating Meshes Flags\n",
      "Fra:1 Mem:27.37M (Peak 48.67M) | Time:00:00.57 | Mem:0.00M, Peak:0.00M | Scene, RenderLayer | Updating Objects\n",
      "Fra:1 Mem:27.37M (Peak 48.67M) | Time:00:00.57 | Mem:0.00M, Peak:0.00M | Scene, RenderLayer | Updating Objects | Copying Transformations to device\n",
      "Fra:1 Mem:27.37M (Peak 48.67M) | Time:00:00.57 | Mem:0.01M, Peak:0.01M | Scene, RenderLayer | Updating Objects | Applying Static Transformations\n",
      "Fra:1 Mem:27.37M (Peak 48.67M) | Time:00:00.57 | Mem:0.01M, Peak:0.01M | Scene, RenderLayer | Updating Particle Systems\n",
      "Fra:1 Mem:27.37M (Peak 48.67M) | Time:00:00.57 | Mem:0.01M, Peak:0.01M | Scene, RenderLayer | Updating Particle Systems | Copying Particles to device\n",
      "Fra:1 Mem:27.37M (Peak 48.67M) | Time:00:00.58 | Mem:0.01M, Peak:0.01M | Scene, RenderLayer | Updating Meshes\n",
      "Fra:1 Mem:28.68M (Peak 48.67M) | Time:00:00.58 | Mem:0.01M, Peak:0.01M | Scene, RenderLayer | Updating Mesh | Computing attributes\n",
      "Fra:1 Mem:29.40M (Peak 48.67M) | Time:00:00.58 | Mem:0.01M, Peak:0.01M | Scene, RenderLayer | Updating Mesh | Copying Attributes to device\n",
      "Fra:1 Mem:29.40M (Peak 48.67M) | Time:00:00.59 | Mem:0.73M, Peak:0.73M | Scene, RenderLayer | Updating Scene BVH | Building\n",
      "Fra:1 Mem:29.40M (Peak 48.67M) | Time:00:00.59 | Mem:0.73M, Peak:0.73M | Scene, RenderLayer | Updating Scene BVH | Building BVH\n",
      "Fra:1 Mem:34.30M (Peak 48.67M) | Time:00:00.61 | Mem:0.73M, Peak:0.73M | Scene, RenderLayer | Updating Scene BVH | Packing BVH triangles and strands\n",
      "Fra:1 Mem:34.63M (Peak 48.67M) | Time:00:00.61 | Mem:0.73M, Peak:0.73M | Scene, RenderLayer | Updating Scene BVH | Packing BVH nodes\n",
      "Fra:1 Mem:34.58M (Peak 48.67M) | Time:00:00.62 | Mem:0.73M, Peak:0.73M | Scene, RenderLayer | Updating Scene BVH | Copying BVH to device\n",
      "Fra:1 Mem:34.58M (Peak 48.67M) | Time:00:00.65 | Mem:3.32M, Peak:3.32M | Scene, RenderLayer | Updating Mesh | Computing normals\n",
      "Fra:1 Mem:38.18M (Peak 48.67M) | Time:00:00.65 | Mem:3.32M, Peak:3.32M | Scene, RenderLayer | Updating Mesh | Copying Mesh to device\n",
      "Fra:1 Mem:38.18M (Peak 48.67M) | Time:00:00.66 | Mem:6.92M, Peak:6.92M | Scene, RenderLayer | Updating Objects Flags\n",
      "Fra:1 Mem:38.18M (Peak 48.67M) | Time:00:00.67 | Mem:6.92M, Peak:6.92M | Scene, RenderLayer | Updating Primitive Offsets\n",
      "Fra:1 Mem:38.18M (Peak 48.67M) | Time:00:00.67 | Mem:6.92M, Peak:6.92M | Scene, RenderLayer | Updating Images\n",
      "Fra:1 Mem:38.18M (Peak 48.67M) | Time:00:00.67 | Mem:6.92M, Peak:6.92M | Scene, RenderLayer | Updating Camera Volume\n",
      "Fra:1 Mem:38.18M (Peak 48.67M) | Time:00:00.67 | Mem:6.92M, Peak:6.92M | Scene, RenderLayer | Updating Lookup Tables\n",
      "Fra:1 Mem:38.18M (Peak 48.67M) | Time:00:00.68 | Mem:7.00M, Peak:7.00M | Scene, RenderLayer | Updating Lights\n",
      "Fra:1 Mem:38.18M (Peak 48.67M) | Time:00:00.68 | Mem:7.01M, Peak:7.01M | Scene, RenderLayer | Updating Lights | Computing distribution\n",
      "Fra:1 Mem:38.18M (Peak 48.67M) | Time:00:00.68 | Mem:7.01M, Peak:7.01M | Scene, RenderLayer | Updating Integrator\n",
      "Fra:1 Mem:40.18M (Peak 48.67M) | Time:00:00.69 | Mem:9.01M, Peak:9.01M | Scene, RenderLayer | Updating Film\n",
      "Fra:1 Mem:40.19M (Peak 48.67M) | Time:00:00.69 | Mem:8.92M, Peak:9.01M | Scene, RenderLayer | Updating Lookup Tables\n",
      "Fra:1 Mem:40.19M (Peak 48.67M) | Time:00:00.69 | Mem:9.01M, Peak:9.01M | Scene, RenderLayer | Updating Baking\n",
      "Fra:1 Mem:40.19M (Peak 48.67M) | Time:00:00.69 | Mem:9.01M, Peak:9.01M | Scene, RenderLayer | Updating Device | Writing constant memory\n",
      "Fra:1 Mem:51.88M (Peak 51.88M) | Time:00:00.70 | Mem:9.01M, Peak:9.01M | Scene, RenderLayer | Sample 0/512\n",
      "Fra:1 Mem:71.88M (Peak 71.88M) | Time:00:00.81 | Remaining:00:53.55 | Mem:9.01M, Peak:9.01M | Scene, RenderLayer | Sample 1/512\n",
      "Fra:1 Mem:71.89M (Peak 96.96M) | Time:00:01.09 | Remaining:00:14.75 | Mem:9.01M, Peak:29.01M | Scene, RenderLayer | Sample 13/512\n",
      "Fra:1 Mem:71.90M (Peak 96.96M) | Time:00:01.64 | Remaining:00:10.47 | Mem:9.01M, Peak:29.01M | Scene, RenderLayer | Sample 42/512\n",
      "Fra:1 Mem:71.90M (Peak 96.96M) | Time:00:02.48 | Remaining:00:08.33 | Mem:9.01M, Peak:29.01M | Scene, RenderLayer | Sample 90/512\n",
      "Fra:1 Mem:71.91M (Peak 96.96M) | Time:00:03.59 | Remaining:00:06.35 | Mem:9.01M, Peak:29.01M | Scene, RenderLayer | Sample 160/512\n",
      "Fra:1 Mem:71.92M (Peak 96.96M) | Time:00:04.65 | Remaining:00:04.83 | Mem:9.01M, Peak:29.01M | Scene, RenderLayer | Sample 230/512\n",
      "Fra:1 Mem:71.92M (Peak 96.96M) | Time:00:05.68 | Remaining:00:03.51 | Mem:9.01M, Peak:29.01M | Scene, RenderLayer | Sample 300/512\n",
      "Fra:1 Mem:71.92M (Peak 96.96M) | Time:00:06.69 | Remaining:00:02.29 | Mem:9.01M, Peak:29.01M | Scene, RenderLayer | Sample 370/512\n",
      "Fra:1 Mem:71.92M (Peak 96.96M) | Time:00:07.69 | Remaining:00:01.14 | Mem:9.01M, Peak:29.01M | Scene, RenderLayer | Sample 440/512\n",
      "Fra:1 Mem:91.92M (Peak 127.92M) | Time:00:08.73 | Mem:9.01M, Peak:29.01M | Scene, RenderLayer | Sample 512/512\n",
      "Fra:1 Mem:91.92M (Peak 127.92M) | Time:00:08.73 | Mem:9.01M, Peak:29.01M | Scene, RenderLayer | Finished\n",
      "Saved: '../output/images/toothbrush.png'\n",
      "Time: 00:09.08 (Saving: 00:00.08)\n",
      "\n",
      "\n",
      "Blender quit\n"
     ]
    }
   ],
   "source": [
    "!../blender-4.1.1-linux-x64/blender --background --python render_objaverse.py --  --use_gpu 1 --objs_config objaverse_data/config.json --width 1024 --height 1024"
   ]
  },
  {
   "cell_type": "code",
   "execution_count": 1,
   "metadata": {},
   "outputs": [
    {
     "name": "stdout",
     "output_type": "stream",
     "text": [
      "/home/amin/clevr-custom/image_generation\n"
     ]
    }
   ],
   "source": [
    "%cd image_generation/"
   ]
  },
  {
   "cell_type": "code",
   "execution_count": 8,
   "metadata": {},
   "outputs": [
    {
     "name": "stdout",
     "output_type": "stream",
     "text": [
      "../blender-4.1.1-linux-x64/blender --background --python render_objaverse.py -- --use_gpu 1 --objects cup clock --robjects 300,0,0 0,0,0 --sobjects 1.100000 1.100000 --objs_config CoCo_Configs/TwoObject.json --width 512 --height 512 --cam_x 0 --cam_y 0 --cam_z 12 --output_image_dir ../output/CoCo-TwoObject-Middle/\n",
      "../blender-4.1.1-linux-x64/blender --background --python render_objaverse.py -- --use_gpu 1 --objects cup banana --robjects 300,0,0 0,0,0 --sobjects 1.100000 1.100000 --objs_config CoCo_Configs/TwoObject.json --width 512 --height 512 --cam_x 0 --cam_y 0 --cam_z 12 --output_image_dir ../output/CoCo-TwoObject-Middle/\n",
      "../blender-4.1.1-linux-x64/blender --background --python render_objaverse.py -- --use_gpu 1 --objects clock cup --robjects 0,0,0 300,0,0 --sobjects 1.100000 1.100000 --objs_config CoCo_Configs/TwoObject.json --width 512 --height 512 --cam_x 0 --cam_y 0 --cam_z 12 --output_image_dir ../output/CoCo-TwoObject-Middle/\n",
      "../blender-4.1.1-linux-x64/blender --background --python render_objaverse.py -- --use_gpu 1 --objects clock banana --robjects 0,0,0 0,0,0 --sobjects 1.100000 1.100000 --objs_config CoCo_Configs/TwoObject.json --width 512 --height 512 --cam_x 0 --cam_y 0 --cam_z 12 --output_image_dir ../output/CoCo-TwoObject-Middle/\n",
      "../blender-4.1.1-linux-x64/blender --background --python render_objaverse.py -- --use_gpu 1 --objects banana cup --robjects 0,0,0 300,0,0 --sobjects 1.100000 1.100000 --objs_config CoCo_Configs/TwoObject.json --width 512 --height 512 --cam_x 0 --cam_y 0 --cam_z 12 --output_image_dir ../output/CoCo-TwoObject-Middle/\n",
      "../blender-4.1.1-linux-x64/blender --background --python render_objaverse.py -- --use_gpu 1 --objects banana clock --robjects 0,0,0 0,0,0 --sobjects 1.100000 1.100000 --objs_config CoCo_Configs/TwoObject.json --width 512 --height 512 --cam_x 0 --cam_y 0 --cam_z 12 --output_image_dir ../output/CoCo-TwoObject-Middle/\n"
     ]
    }
   ],
   "source": [
    "#two object generation\n",
    "import json\n",
    "import subprocess\n",
    "with open(\"CoCo_Configs/properties.json\", 'r') as f:\n",
    "    properties = json.load(f)\n",
    "with open(\"CoCo_Configs/Scales.json\") as f:\n",
    "    scales=json.load(f)\n",
    "shapes=list(properties[\"shapes\"].keys())\n",
    "shapes=[\"cup\",\"clock\",\"banana\"]\n",
    "flat_shapes=[\"axe\",\"banana\",\"bed\",\"clock\",\"donut\",\"fork\",\"keyboard\",\n",
    "\"knife\",\"sink\",\"mouse\",\"skateboard\",\"remote\",\"scissors\",\n",
    "\"pizza\",\"plate\",\"toilet\",\"spoon\",\"ski\",\"snowboard\"]\n",
    "lean_shapes=[\"cup\",\"hat\",\"laptop\",\"suitcase\"]\n",
    "for shape1 in shapes:\n",
    "    for shape2 in shapes:\n",
    "            if shape1==shape2:\n",
    "                continue\n",
    "            arg_shapes=shape1+\" \"+shape2\n",
    "            scale1=1.1\n",
    "            scale2=1.1\n",
    "            \n",
    "            rotate1=\"270,0,0\"\n",
    "            rotate2=\"270,0,0\"\n",
    "            if shape1 in flat_shapes:\n",
    "                rotate1=\"0,0,0\"\n",
    "            if shape2 in flat_shapes:\n",
    "                rotate2=\"0,0,0\"\n",
    "            \n",
    "            if shape1 in lean_shapes:\n",
    "                rotate1=\"300,0,0\"\n",
    "            if shape2 in lean_shapes:\n",
    "                rotate2=\"300,0,0\"\n",
    "\n",
    "            if shape1 in scales.keys():\n",
    "                scale1*=scales[shape1]\n",
    "            if shape2 in scales.keys():\n",
    "                scale2*= scales[shape2]\n",
    "            \n",
    "            arg_scales=\"%f %f\" % (scale1,scale2)\n",
    "            command=\"../blender-4.1.1-linux-x64/blender --background  --python render_objaverse.py -- --use_gpu 1  --objects %s\\\n",
    "                --robjects %s %s --sobjects %s --objs_config CoCo_Configs/TwoObject.json \\\n",
    "                --width 512 --height 512 --cam_x 0 --cam_y 0 --cam_z 12 --output_image_dir ../output/CoCo-TwoObject-Middle/\" % (arg_shapes,rotate1,rotate2,arg_scales)\n",
    "            command=list(filter(None,command.split(\" \")))\n",
    "            new_command=command[:5]\n",
    "            new_command=\" \".join(command)\n",
    "            print(new_command)\n",
    "            subprocess.run([\"bash\",\"-c\",new_command],check=False,\n",
    "            stdout=subprocess.DEVNULL,\n",
    "            stderr=subprocess.DEVNULL\n",
    "            )\n",
    "            \n"
   ]
  },
  {
   "cell_type": "code",
   "execution_count": null,
   "metadata": {},
   "outputs": [],
   "source": []
  }
 ],
 "metadata": {
  "kernelspec": {
   "display_name": "Python 3",
   "language": "python",
   "name": "python3"
  },
  "language_info": {
   "codemirror_mode": {
    "name": "ipython",
    "version": 3
   },
   "file_extension": ".py",
   "mimetype": "text/x-python",
   "name": "python",
   "nbconvert_exporter": "python",
   "pygments_lexer": "ipython3",
   "version": "3.8.10"
  }
 },
 "nbformat": 4,
 "nbformat_minor": 2
}
