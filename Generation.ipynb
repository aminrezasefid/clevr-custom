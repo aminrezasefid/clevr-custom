{
 "cells": [
  {
   "cell_type": "code",
   "execution_count": 2,
   "metadata": {},
   "outputs": [
    {
     "name": "stdout",
     "output_type": "stream",
     "text": [
      "--2024-06-23 10:59:04--  https://mirror.clarkson.edu/blender/release/Blender4.1/blender-4.1.1-linux-x64.tar.xz\n",
      "Resolving mirror.clarkson.edu (mirror.clarkson.edu)... 128.153.145.19, 2605:6480:c051:100::1\n",
      "Connecting to mirror.clarkson.edu (mirror.clarkson.edu)|128.153.145.19|:443... connected.\n",
      "HTTP request sent, awaiting response... 200 OK\n",
      "Length: 297954552 (284M) [application/octet-stream]\n",
      "Saving to: ‘blender-4.1.1-linux-x64.tar.xz’\n",
      "\n",
      "blender-4.1.1-linux 100%[===================>] 284.15M  1.00MB/s    in 6m 12s  \n",
      "\n",
      "2024-06-23 11:05:17 (783 KB/s) - ‘blender-4.1.1-linux-x64.tar.xz’ saved [297954552/297954552]\n",
      "\n"
     ]
    }
   ],
   "source": [
    "!wget https://mirror.clarkson.edu/blender/release/Blender4.1/blender-4.1.1-linux-x64.tar.xz && \\\n",
    "  tar -xf blender-4.1.1-linux-x64.tar.xz && \\\n",
    "  rm blender-4.1.1-linux-x64.tar.xz"
   ]
  },
  {
   "cell_type": "code",
   "execution_count": 3,
   "metadata": {},
   "outputs": [],
   "source": [
    "!echo $PWD/image_generation >> blender-4.1.1-linux-x64/4.1/python/lib/python3.11/site-packages/clevr.pth"
   ]
  },
  {
   "cell_type": "code",
   "execution_count": 6,
   "metadata": {},
   "outputs": [
    {
     "name": "stdout",
     "output_type": "stream",
     "text": [
      "/home/amin/clevr-custom/image_generation\n"
     ]
    }
   ],
   "source": [
    "%cd image_generation"
   ]
  },
  {
   "cell_type": "code",
   "execution_count": 8,
   "metadata": {},
   "outputs": [
    {
     "name": "stdout",
     "output_type": "stream",
     "text": [
      "Blender 4.1.1 (hash e1743a0317bc built 2024-04-15 23:47:45)\n",
      "Namespace(base_scene_blendfile='data/base_scene.blend', properties_json='objaverse_data/properties.json', shape_dir='objaverse_data/', objects=['circle'], sobjects=[0], robjects=[(0, 0, 0)], locobjects=[(0, 0)], objs_config='objaverse_data/config.json', output_image_dir='../output/images/', version='1.0', license='Creative Commons Attribution (CC-BY 4.0)', date='06/23/2024', cam_x=0.0, cam_y=-7.0, cam_z=10, use_gpu=1, width=1024, height=1024, render_num_samples=512, render_min_bounces=8, render_max_bounces=8, render_tile_size=256)\n",
      "Namespace(base_scene_blendfile='data/base_scene.blend', properties_json='objaverse_data/properties.json', shape_dir='objaverse_data/', objects=['bus', 'car', 'bicycle', 'airplane'], sobjects=[1, 1, 1, 1], robjects=[[0, 0, 0], [0, 0, 0], [0, 0, 0], [90, 0, 0]], locobjects=[[-3, -3], [3, 3], [-3, 3], [3, -3]], objs_config='objaverse_data/config.json', output_image_dir='../output/images/', version='1.0', license='Creative Commons Attribution (CC-BY 4.0)', date='06/23/2024', cam_x=0.0, cam_y=-7.0, cam_z=10, use_gpu=1, width=1024, height=1024, render_num_samples=512, render_min_bounces=8, render_max_bounces=8, render_tile_size=256)\n",
      "Read blend: \"/home/amin/clevr-custom/image_generation/data/base_scene.blend\"\n",
      "Warning: region type 4 missing in space type \"Info\" (id: 7) - removing region\n",
      "objaverse_data/Bus.glb\n",
      "Data are loaded, start creating Blender stuff\n",
      "glTF import finished in 0.12s\n",
      "objaverse_data/Car.fbx\n",
      "FBX version: 7400\n",
      "objaverse_data/Bicycle.glb\n",
      "Data are loaded, start creating Blender stuff\n",
      "glTF import finished in 0.27s\n",
      "objaverse_data/Airplane.obj\n",
      "OBJ import of 'Airplane.obj' took 45.05 ms\n",
      "Fra:1 Mem:164.90M (Peak 164.90M) | Time:00:00.14 | Mem:0.00M, Peak:0.00M | Scene, RenderLayer | Synchronizing object | Ground\n",
      "Fra:1 Mem:164.92M (Peak 164.92M) | Time:00:00.14 | Mem:0.00M, Peak:0.00M | Scene, RenderLayer | Synchronizing object | Object_17\n",
      "Fra:1 Mem:164.98M (Peak 164.98M) | Time:00:00.14 | Mem:0.00M, Peak:0.00M | Scene, RenderLayer | Synchronizing object | Object_23\n",
      "Fra:1 Mem:166.01M (Peak 166.01M) | Time:00:00.14 | Mem:0.00M, Peak:0.00M | Scene, RenderLayer | Synchronizing object | Object_29\n",
      "Fra:1 Mem:167.03M (Peak 167.03M) | Time:00:00.14 | Mem:0.00M, Peak:0.00M | Scene, RenderLayer | Synchronizing object | Object_32\n",
      "Fra:1 Mem:167.05M (Peak 167.05M) | Time:00:00.14 | Mem:0.00M, Peak:0.00M | Scene, RenderLayer | Synchronizing object | Object_33\n",
      "Fra:1 Mem:167.17M (Peak 167.17M) | Time:00:00.14 | Mem:0.00M, Peak:0.00M | Scene, RenderLayer | Synchronizing object | Object_34\n",
      "Fra:1 Mem:167.18M (Peak 167.18M) | Time:00:00.14 | Mem:0.00M, Peak:0.00M | Scene, RenderLayer | Synchronizing object | Object_35\n",
      "Fra:1 Mem:167.21M (Peak 167.21M) | Time:00:00.14 | Mem:0.00M, Peak:0.00M | Scene, RenderLayer | Synchronizing object | Object_5\n",
      "Fra:1 Mem:167.21M (Peak 167.21M) | Time:00:00.14 | Mem:0.00M, Peak:0.00M | Scene, RenderLayer | Synchronizing object | Object_6\n",
      "Fra:1 Mem:167.22M (Peak 167.22M) | Time:00:00.14 | Mem:0.00M, Peak:0.00M | Scene, RenderLayer | Synchronizing object | Airplane_0\n",
      "Fra:1 Mem:168.01M (Peak 168.01M) | Time:00:00.14 | Mem:0.00M, Peak:0.00M | Scene, RenderLayer | Synchronizing object | Object_7\n",
      "Fra:1 Mem:168.17M (Peak 168.18M) | Time:00:00.14 | Mem:0.00M, Peak:0.00M | Scene, RenderLayer | Synchronizing object | Object_9\n",
      "Fra:1 Mem:168.49M (Peak 168.53M) | Time:00:00.14 | Mem:0.00M, Peak:0.00M | Scene, RenderLayer | Synchronizing object | Object_73\n",
      "Fra:1 Mem:168.79M (Peak 168.78M) | Time:00:00.14 | Mem:0.00M, Peak:0.00M | Scene, RenderLayer | Synchronizing object | Object_55\n",
      "Fra:1 Mem:169.04M (Peak 169.04M) | Time:00:00.14 | Mem:0.00M, Peak:0.00M | Scene, RenderLayer | Synchronizing object | Object_75\n",
      "Fra:1 Mem:171.30M (Peak 171.30M) | Time:00:00.14 | Mem:0.00M, Peak:0.00M | Scene, RenderLayer | Synchronizing object | Object_61\n",
      "Fra:1 Mem:171.34M (Peak 171.36M) | Time:00:00.14 | Mem:0.00M, Peak:0.00M | Scene, RenderLayer | Synchronizing object | Object_77\n",
      "Fra:1 Mem:171.51M (Peak 171.52M) | Time:00:00.14 | Mem:0.00M, Peak:0.00M | Scene, RenderLayer | Synchronizing object | Object_6.001\n",
      "Fra:1 Mem:172.15M (Peak 172.15M) | Time:00:00.14 | Mem:0.00M, Peak:0.00M | Scene, RenderLayer | Synchronizing object | Object_7.001\n",
      "Fra:1 Mem:172.07M (Peak 172.15M) | Time:00:00.14 | Mem:0.00M, Peak:0.00M | Scene, RenderLayer | Synchronizing object | Object_9.001\n",
      "Fra:1 Mem:172.59M (Peak 172.59M) | Time:00:00.14 | Mem:0.00M, Peak:0.00M | Scene, RenderLayer | Synchronizing object | Object_12.001\n",
      "Fra:1 Mem:172.66M (Peak 172.68M) | Time:00:00.14 | Mem:0.00M, Peak:0.00M | Scene, RenderLayer | Synchronizing object | Object_11.001\n",
      "Fra:1 Mem:175.50M (Peak 175.51M) | Time:00:00.14 | Mem:0.00M, Peak:0.00M | Scene, RenderLayer | Synchronizing object | Object_45\n",
      "Fra:1 Mem:175.66M (Peak 175.66M) | Time:00:00.14 | Mem:0.00M, Peak:0.00M | Scene, RenderLayer | Synchronizing object | Object_48\n",
      "Fra:1 Mem:176.19M (Peak 176.19M) | Time:00:00.15 | Mem:0.00M, Peak:0.00M | Scene, RenderLayer | Synchronizing object | Object_49\n",
      "Fra:1 Mem:176.47M (Peak 176.47M) | Time:00:00.15 | Mem:0.00M, Peak:0.00M | Scene, RenderLayer | Synchronizing object | Object_52\n",
      "Fra:1 Mem:176.72M (Peak 176.72M) | Time:00:00.15 | Mem:0.00M, Peak:0.00M | Scene, RenderLayer | Synchronizing object | Object_53\n",
      "Fra:1 Mem:176.54M (Peak 176.72M) | Time:00:00.15 | Mem:0.00M, Peak:0.00M | Scene, RenderLayer | Synchronizing object | Object_57\n",
      "Fra:1 Mem:177.28M (Peak 177.28M) | Time:00:00.15 | Mem:0.00M, Peak:0.00M | Scene, RenderLayer | Synchronizing object | Object_59\n",
      "Fra:1 Mem:177.56M (Peak 177.56M) | Time:00:00.15 | Mem:0.00M, Peak:0.00M | Scene, RenderLayer | Synchronizing object | Object_65\n",
      "Fra:1 Mem:178.23M (Peak 178.23M) | Time:00:00.15 | Mem:0.00M, Peak:0.00M | Scene, RenderLayer | Synchronizing object | Object_66\n",
      "Fra:1 Mem:178.55M (Peak 178.55M) | Time:00:00.15 | Mem:0.00M, Peak:0.00M | Scene, RenderLayer | Synchronizing object | Object_67\n",
      "Fra:1 Mem:179.00M (Peak 179.00M) | Time:00:00.15 | Mem:0.00M, Peak:0.00M | Scene, RenderLayer | Synchronizing object | Object_14.001\n",
      "Fra:1 Mem:179.34M (Peak 179.34M) | Time:00:00.15 | Mem:0.00M, Peak:0.00M | Scene, RenderLayer | Synchronizing object | Object_16.001\n",
      "Fra:1 Mem:180.02M (Peak 180.02M) | Time:00:00.15 | Mem:0.00M, Peak:0.00M | Scene, RenderLayer | Synchronizing object | Object_17.001\n",
      "Fra:1 Mem:180.26M (Peak 180.26M) | Time:00:00.15 | Mem:0.00M, Peak:0.00M | Scene, RenderLayer | Synchronizing object | Object_19.001\n",
      "Fra:1 Mem:180.31M (Peak 180.31M) | Time:00:00.15 | Mem:0.00M, Peak:0.00M | Scene, RenderLayer | Synchronizing object | Object_20.001\n",
      "Fra:1 Mem:180.23M (Peak 180.31M) | Time:00:00.15 | Mem:0.00M, Peak:0.00M | Scene, RenderLayer | Synchronizing object | Object_21.001\n",
      "Fra:1 Mem:180.34M (Peak 180.42M) | Time:00:00.15 | Mem:0.00M, Peak:0.00M | Scene, RenderLayer | Synchronizing object | Object_23.001\n",
      "Fra:1 Mem:181.07M (Peak 181.07M) | Time:00:00.15 | Mem:0.00M, Peak:0.00M | Scene, RenderLayer | Synchronizing object | Object_25.001\n",
      "Fra:1 Mem:181.14M (Peak 181.14M) | Time:00:00.15 | Mem:0.00M, Peak:0.00M | Scene, RenderLayer | Synchronizing object | Object_26.001\n",
      "Fra:1 Mem:180.96M (Peak 181.14M) | Time:00:00.15 | Mem:0.00M, Peak:0.00M | Scene, RenderLayer | Synchronizing object | Object_28.001\n",
      "Fra:1 Mem:180.82M (Peak 181.14M) | Time:00:00.15 | Mem:0.00M, Peak:0.00M | Scene, RenderLayer | Synchronizing object | Object_31.001\n",
      "Fra:1 Mem:180.88M (Peak 181.14M) | Time:00:00.15 | Mem:0.00M, Peak:0.00M | Scene, RenderLayer | Synchronizing object | Object_34.001\n",
      "Fra:1 Mem:180.96M (Peak 181.14M) | Time:00:00.15 | Mem:0.00M, Peak:0.00M | Scene, RenderLayer | Synchronizing object | Object_39\n",
      "Fra:1 Mem:181.10M (Peak 181.14M) | Time:00:00.15 | Mem:0.00M, Peak:0.00M | Scene, RenderLayer | Synchronizing object | Object_37\n",
      "Fra:1 Mem:181.11M (Peak 181.14M) | Time:00:00.15 | Mem:0.00M, Peak:0.00M | Scene, RenderLayer | Synchronizing object | Object_4.001\n",
      "Fra:1 Mem:336.75M (Peak 475.48M) | Time:00:00.68 | Mem:0.00M, Peak:0.00M | Scene, RenderLayer | Initializing\n",
      "Fra:1 Mem:336.28M (Peak 475.48M) | Time:00:00.68 | Mem:0.00M, Peak:0.00M | Scene, RenderLayer | Updating Images | Loading Image_0\n",
      "Fra:1 Mem:336.28M (Peak 475.48M) | Time:00:00.68 | Mem:0.00M, Peak:0.00M | Scene, RenderLayer | Updating Images | Loading Image_1\n",
      "Fra:1 Mem:334.06M (Peak 475.48M) | Time:00:00.71 | Mem:4.50M, Peak:4.50M | Scene, RenderLayer | Waiting for render to start\n",
      "Fra:1 Mem:334.07M (Peak 475.48M) | Time:00:00.71 | Mem:4.50M, Peak:4.50M | Scene, RenderLayer | Loading render kernels (may take a few minutes the first time)\n",
      "Fra:1 Mem:334.07M (Peak 475.48M) | Time:00:00.77 | Mem:4.50M, Peak:4.50M | Scene, RenderLayer | Updating Scene\n",
      "Fra:1 Mem:334.07M (Peak 475.48M) | Time:00:00.77 | Mem:4.50M, Peak:4.50M | Scene, RenderLayer | Updating Shaders\n",
      "Fra:1 Mem:334.21M (Peak 475.48M) | Time:00:00.77 | Mem:4.56M, Peak:4.56M | Scene, RenderLayer | Updating Procedurals\n",
      "Fra:1 Mem:334.21M (Peak 475.48M) | Time:00:00.77 | Mem:4.56M, Peak:4.56M | Scene, RenderLayer | Updating Background\n",
      "Fra:1 Mem:334.21M (Peak 475.48M) | Time:00:00.77 | Mem:4.56M, Peak:4.56M | Scene, RenderLayer | Updating Camera\n",
      "Fra:1 Mem:334.21M (Peak 475.48M) | Time:00:00.77 | Mem:4.56M, Peak:4.56M | Scene, RenderLayer | Updating Meshes Flags\n",
      "Fra:1 Mem:334.21M (Peak 475.48M) | Time:00:00.77 | Mem:4.56M, Peak:4.56M | Scene, RenderLayer | Updating Objects\n",
      "Fra:1 Mem:334.21M (Peak 475.48M) | Time:00:00.77 | Mem:4.56M, Peak:4.56M | Scene, RenderLayer | Updating Objects | Copying Transformations to device\n",
      "Fra:1 Mem:334.23M (Peak 475.48M) | Time:00:00.77 | Mem:4.58M, Peak:4.58M | Scene, RenderLayer | Updating Objects | Applying Static Transformations\n",
      "Fra:1 Mem:334.23M (Peak 475.48M) | Time:00:00.77 | Mem:4.58M, Peak:4.58M | Scene, RenderLayer | Updating Particle Systems\n",
      "Fra:1 Mem:334.23M (Peak 475.48M) | Time:00:00.77 | Mem:4.58M, Peak:4.58M | Scene, RenderLayer | Updating Particle Systems | Copying Particles to device\n",
      "Fra:1 Mem:334.23M (Peak 475.48M) | Time:00:00.77 | Mem:4.58M, Peak:4.58M | Scene, RenderLayer | Updating Meshes\n",
      "Fra:1 Mem:355.12M (Peak 475.48M) | Time:00:00.80 | Mem:4.58M, Peak:4.58M | Scene, RenderLayer | Updating Mesh | Computing attributes\n",
      "Fra:1 Mem:420.65M (Peak 475.48M) | Time:00:00.82 | Mem:4.59M, Peak:4.59M | Scene, RenderLayer | Updating Mesh | Copying Attributes to device\n",
      "Fra:1 Mem:420.64M (Peak 475.48M) | Time:00:00.84 | Mem:70.10M, Peak:70.10M | Scene, RenderLayer | Updating Scene BVH | Building\n",
      "Fra:1 Mem:420.64M (Peak 475.48M) | Time:00:00.84 | Mem:70.10M, Peak:70.10M | Scene, RenderLayer | Updating Scene BVH | Building BVH\n",
      "Fra:1 Mem:498.96M (Peak 498.96M) | Time:00:01.13 | Mem:70.10M, Peak:70.10M | Scene, RenderLayer | Updating Scene BVH | Packing BVH triangles and strands\n",
      "Fra:1 Mem:504.19M (Peak 504.19M) | Time:00:01.13 | Mem:70.10M, Peak:70.10M | Scene, RenderLayer | Updating Scene BVH | Packing BVH nodes\n",
      "Fra:1 Mem:502.84M (Peak 524.40M) | Time:00:01.21 | Mem:70.10M, Peak:70.10M | Scene, RenderLayer | Updating Scene BVH | Copying BVH to device\n",
      "Fra:1 Mem:502.84M (Peak 524.40M) | Time:00:01.23 | Mem:111.20M, Peak:111.20M | Scene, RenderLayer | Updating Mesh | Computing normals\n",
      "Fra:1 Mem:560.76M (Peak 560.76M) | Time:00:01.24 | Mem:111.20M, Peak:111.20M | Scene, RenderLayer | Updating Mesh | Copying Mesh to device\n",
      "Fra:1 Mem:560.76M (Peak 560.76M) | Time:00:01.27 | Mem:169.13M, Peak:169.13M | Scene, RenderLayer | Updating Objects Flags\n",
      "Fra:1 Mem:560.76M (Peak 560.76M) | Time:00:01.27 | Mem:169.13M, Peak:169.13M | Scene, RenderLayer | Updating Primitive Offsets\n",
      "Fra:1 Mem:560.76M (Peak 560.76M) | Time:00:01.27 | Mem:169.13M, Peak:169.13M | Scene, RenderLayer | Updating Images\n",
      "Fra:1 Mem:560.76M (Peak 560.76M) | Time:00:01.27 | Mem:169.13M, Peak:169.13M | Scene, RenderLayer | Updating Camera Volume\n",
      "Fra:1 Mem:560.76M (Peak 560.76M) | Time:00:01.27 | Mem:169.13M, Peak:169.13M | Scene, RenderLayer | Updating Lookup Tables\n",
      "Fra:1 Mem:560.76M (Peak 560.76M) | Time:00:01.27 | Mem:169.21M, Peak:169.21M | Scene, RenderLayer | Updating Lights\n",
      "Fra:1 Mem:560.76M (Peak 560.76M) | Time:00:01.27 | Mem:169.21M, Peak:169.21M | Scene, RenderLayer | Updating Lights | Computing distribution\n",
      "Fra:1 Mem:560.76M (Peak 560.76M) | Time:00:01.27 | Mem:169.21M, Peak:169.21M | Scene, RenderLayer | Updating Integrator\n",
      "Fra:1 Mem:562.76M (Peak 562.76M) | Time:00:01.27 | Mem:171.21M, Peak:171.21M | Scene, RenderLayer | Updating Film\n",
      "Fra:1 Mem:562.77M (Peak 562.77M) | Time:00:01.27 | Mem:171.13M, Peak:171.21M | Scene, RenderLayer | Updating Lookup Tables\n",
      "Fra:1 Mem:562.77M (Peak 562.77M) | Time:00:01.27 | Mem:171.21M, Peak:171.21M | Scene, RenderLayer | Updating Baking\n",
      "Fra:1 Mem:562.77M (Peak 562.77M) | Time:00:01.27 | Mem:171.21M, Peak:171.21M | Scene, RenderLayer | Updating Device | Writing constant memory\n",
      "Fra:1 Mem:574.50M (Peak 574.50M) | Time:00:01.28 | Mem:171.21M, Peak:171.21M | Scene, RenderLayer | Sample 0/512\n",
      "Fra:1 Mem:594.50M (Peak 594.50M) | Time:00:01.33 | Remaining:00:23.89 | Mem:171.21M, Peak:171.21M | Scene, RenderLayer | Sample 1/512\n",
      "Fra:1 Mem:594.50M (Peak 614.50M) | Time:00:01.73 | Remaining:00:14.77 | Mem:171.21M, Peak:191.21M | Scene, RenderLayer | Sample 15/512\n",
      "Fra:1 Mem:594.51M (Peak 614.50M) | Time:00:02.44 | Remaining:00:11.73 | Mem:171.21M, Peak:191.21M | Scene, RenderLayer | Sample 46/512\n",
      "Fra:1 Mem:594.51M (Peak 614.51M) | Time:00:03.49 | Remaining:00:09.42 | Mem:171.21M, Peak:191.21M | Scene, RenderLayer | Sample 97/512\n",
      "Fra:1 Mem:594.53M (Peak 614.51M) | Time:00:04.95 | Remaining:00:07.24 | Mem:171.21M, Peak:191.21M | Scene, RenderLayer | Sample 172/512\n",
      "Fra:1 Mem:594.53M (Peak 614.53M) | Time:00:06.37 | Remaining:00:05.46 | Mem:171.21M, Peak:191.21M | Scene, RenderLayer | Sample 247/512\n",
      "Fra:1 Mem:594.53M (Peak 614.53M) | Time:00:07.79 | Remaining:00:03.83 | Mem:171.21M, Peak:191.21M | Scene, RenderLayer | Sample 322/512\n",
      "Fra:1 Mem:614.53M (Peak 650.53M) | Time:00:11.32 | Mem:171.21M, Peak:191.21M | Scene, RenderLayer | Sample 512/512\n",
      "Fra:1 Mem:614.53M (Peak 650.53M) | Time:00:11.32 | Mem:171.21M, Peak:191.21M | Scene, RenderLayer | Finished\n",
      "Saved: '../output/images/bus_car_bicycle_airplane.png'\n",
      "Time: 00:11.52 (Saving: 00:00.09)\n",
      "\n",
      "\n",
      "Blender quit\n"
     ]
    }
   ],
   "source": [
    "!../blender-4.1.1-linux-x64/blender --background --python render_objaverse.py --  --use_gpu 1 --objs_config objaverse_data/config.json --width 1024 --height 1024\n"
   ]
  },
  {
   "cell_type": "code",
   "execution_count": null,
   "metadata": {},
   "outputs": [],
   "source": []
  }
 ],
 "metadata": {
  "kernelspec": {
   "display_name": "Python 3",
   "language": "python",
   "name": "python3"
  },
  "language_info": {
   "codemirror_mode": {
    "name": "ipython",
    "version": 3
   },
   "file_extension": ".py",
   "mimetype": "text/x-python",
   "name": "python",
   "nbconvert_exporter": "python",
   "pygments_lexer": "ipython3",
   "version": "3.8.10"
  }
 },
 "nbformat": 4,
 "nbformat_minor": 2
}
